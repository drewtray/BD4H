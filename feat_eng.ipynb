{
 "cells": [
  {
   "cell_type": "code",
   "execution_count": 1,
   "metadata": {},
   "outputs": [],
   "source": [
    "import boto3\n",
    "# import dask\n",
    "# import dask.dataframe as dd\n",
    "import numpy as np\n",
    "import pandas as pd\n",
    "from pymetamap import MetaMap\n",
    "from sklearn.feature_extraction.text import TfidfVectorizer\n",
    "from sklearn.model_selection import train_test_split\n",
    "import time\n",
    "from pharmpy.epc import EPCEngine\n",
    "\n",
    "pd.set_option('display.max_rows', None)"
   ]
  },
  {
   "cell_type": "code",
   "execution_count": 2,
   "metadata": {},
   "outputs": [],
   "source": [
    "cohort = pd.read_csv('cohort.csv', index_col=0)\n",
    "ndc = pd.read_csv('ndcxls/product.csv')"
   ]
  },
  {
   "cell_type": "code",
   "execution_count": 3,
   "metadata": {},
   "outputs": [
    {
     "data": {
      "text/html": [
       "<div>\n",
       "<style scoped>\n",
       "    .dataframe tbody tr th:only-of-type {\n",
       "        vertical-align: middle;\n",
       "    }\n",
       "\n",
       "    .dataframe tbody tr th {\n",
       "        vertical-align: top;\n",
       "    }\n",
       "\n",
       "    .dataframe thead th {\n",
       "        text-align: right;\n",
       "    }\n",
       "</style>\n",
       "<table border=\"1\" class=\"dataframe\">\n",
       "  <thead>\n",
       "    <tr style=\"text-align: right;\">\n",
       "      <th></th>\n",
       "      <th>subject_id</th>\n",
       "      <th>target</th>\n",
       "    </tr>\n",
       "  </thead>\n",
       "  <tbody>\n",
       "    <tr>\n",
       "      <th>0</th>\n",
       "      <td>109</td>\n",
       "      <td>1.0</td>\n",
       "    </tr>\n",
       "    <tr>\n",
       "      <th>1</th>\n",
       "      <td>188</td>\n",
       "      <td>1.0</td>\n",
       "    </tr>\n",
       "    <tr>\n",
       "      <th>2</th>\n",
       "      <td>222</td>\n",
       "      <td>1.0</td>\n",
       "    </tr>\n",
       "    <tr>\n",
       "      <th>3</th>\n",
       "      <td>236</td>\n",
       "      <td>1.0</td>\n",
       "    </tr>\n",
       "    <tr>\n",
       "      <th>4</th>\n",
       "      <td>305</td>\n",
       "      <td>1.0</td>\n",
       "    </tr>\n",
       "  </tbody>\n",
       "</table>\n",
       "</div>"
      ],
      "text/plain": [
       "   subject_id  target\n",
       "0         109     1.0\n",
       "1         188     1.0\n",
       "2         222     1.0\n",
       "3         236     1.0\n",
       "4         305     1.0"
      ]
     },
     "execution_count": 3,
     "metadata": {},
     "output_type": "execute_result"
    }
   ],
   "source": [
    "cohort.head()\n",
    "# cohort.shape"
   ]
  },
  {
   "cell_type": "code",
   "execution_count": 4,
   "metadata": {},
   "outputs": [],
   "source": [
    "all_notes = pd.read_csv('s3://athena-output-mimic/cohort_notes/2022/04/14/07d790b5-026b-48d1-8f8f-7216ef2425fd.csv')\n",
    "all_scripts = pd.read_csv('s3://athena-output-mimic/cohort_scripts/2022/04/14/7c40a6e6-2058-4e39-95fa-a57ec2d753ef.csv')\n",
    "\n",
    "desc = pd.read_csv('s3://athena-output-mimic/diagnosis_descriptions/2022/04/10/539668ed-8120-4085-b072-7ea0168a4ae6.csv')\n",
    "diag = pd.read_csv('s3://athena-output-mimic/cohort_diagnoses/2022/04/14/f46af8e4-5247-499c-ba65-0c2a5f851fd0.csv')"
   ]
  },
  {
   "cell_type": "code",
   "execution_count": 5,
   "metadata": {},
   "outputs": [
    {
     "data": {
      "text/html": [
       "<div>\n",
       "<style scoped>\n",
       "    .dataframe tbody tr th:only-of-type {\n",
       "        vertical-align: middle;\n",
       "    }\n",
       "\n",
       "    .dataframe tbody tr th {\n",
       "        vertical-align: top;\n",
       "    }\n",
       "\n",
       "    .dataframe thead th {\n",
       "        text-align: right;\n",
       "    }\n",
       "</style>\n",
       "<table border=\"1\" class=\"dataframe\">\n",
       "  <thead>\n",
       "    <tr style=\"text-align: right;\">\n",
       "      <th></th>\n",
       "      <th>subject_id</th>\n",
       "      <th>text</th>\n",
       "    </tr>\n",
       "  </thead>\n",
       "  <tbody>\n",
       "    <tr>\n",
       "      <th>0</th>\n",
       "      <td>65824</td>\n",
       "      <td>Chief Complaint: LGIB\\n   I saw and examined t...</td>\n",
       "    </tr>\n",
       "    <tr>\n",
       "      <th>1</th>\n",
       "      <td>90369</td>\n",
       "      <td>Chief Complaint:\\n   HPI:\\n   24 Hour Events:\\...</td>\n",
       "    </tr>\n",
       "    <tr>\n",
       "      <th>2</th>\n",
       "      <td>56317</td>\n",
       "      <td>Chief Complaint: SOB\\n   I saw and examined th...</td>\n",
       "    </tr>\n",
       "    <tr>\n",
       "      <th>3</th>\n",
       "      <td>99231</td>\n",
       "      <td>Chief Complaint: acute renal failure, hyperten...</td>\n",
       "    </tr>\n",
       "    <tr>\n",
       "      <th>4</th>\n",
       "      <td>67906</td>\n",
       "      <td>Chief Complaint:\\n   I saw and examined the pa...</td>\n",
       "    </tr>\n",
       "  </tbody>\n",
       "</table>\n",
       "</div>"
      ],
      "text/plain": [
       "   subject_id                                               text\n",
       "0       65824  Chief Complaint: LGIB\\n   I saw and examined t...\n",
       "1       90369  Chief Complaint:\\n   HPI:\\n   24 Hour Events:\\...\n",
       "2       56317  Chief Complaint: SOB\\n   I saw and examined th...\n",
       "3       99231  Chief Complaint: acute renal failure, hyperten...\n",
       "4       67906  Chief Complaint:\\n   I saw and examined the pa..."
      ]
     },
     "execution_count": 5,
     "metadata": {},
     "output_type": "execute_result"
    }
   ],
   "source": [
    "all_notes.head()"
   ]
  },
  {
   "cell_type": "code",
   "execution_count": 6,
   "metadata": {},
   "outputs": [],
   "source": [
    "all_notes['text'] = all_notes['text'].astype(str)"
   ]
  },
  {
   "cell_type": "code",
   "execution_count": 7,
   "metadata": {},
   "outputs": [],
   "source": [
    "notes_grpd = all_notes.groupby('subject_id')['text'].apply(lambda x: ' '.join(x))\n",
    "notes_grpd.to_csv('notes_grpd.csv')"
   ]
  },
  {
   "cell_type": "code",
   "execution_count": 8,
   "metadata": {},
   "outputs": [
    {
     "data": {
      "text/plain": [
       "subject_id\n",
       "75     Admission Date:  [**2147-4-5**]              D...\n",
       "109    Chief Complaint: Hypertensive urgency\\n   I sa...\n",
       "188    [**2158-8-11**] 10:43 AM\\n CT ABD W&W/O C; CT ...\n",
       "214    [**2188-10-8**] 4:08 PM\\n T-SPINE; L-SPINE (AP...\n",
       "222    68 yo F with extensive PMH: MI x 3; 70 % occlu...\n",
       "Name: text, dtype: object"
      ]
     },
     "execution_count": 8,
     "metadata": {},
     "output_type": "execute_result"
    }
   ],
   "source": [
    "notes_grpd.head()"
   ]
  },
  {
   "cell_type": "code",
   "execution_count": 9,
   "metadata": {},
   "outputs": [],
   "source": [
    "text_limit=1000\n",
    "notes_grpd = notes_grpd.apply(lambda x: x[:text_limit])"
   ]
  },
  {
   "cell_type": "markdown",
   "metadata": {},
   "source": [
    "### Perform concept extraction"
   ]
  },
  {
   "cell_type": "code",
   "execution_count": 10,
   "metadata": {},
   "outputs": [],
   "source": [
    "\n",
    "cm_client = boto3.client(\"comprehendmedical\")"
   ]
  },
  {
   "cell_type": "code",
   "execution_count": 11,
   "metadata": {},
   "outputs": [],
   "source": [
    "def get_snomed(x):\n",
    "    text = x\n",
    "    response = cm_client.infer_snomedct(Text=text)\n",
    "\n",
    "    signs = []\n",
    "    for i in response['Entities']:\n",
    "        if i['Category'] == 'MEDICAL_CONDITION' and i['Traits']:\n",
    "            if i['Traits'][0]['Name'] == 'SIGN' or i['Traits'][0]['Name'] == 'SYMPTOM':\n",
    "                signs.extend([i['Text'] + ' '])\n",
    "\n",
    "    return ''.join(signs)"
   ]
  },
  {
   "cell_type": "code",
   "execution_count": 12,
   "metadata": {},
   "outputs": [],
   "source": [
    "sign_symp = notes_grpd.apply(get_snomed)\n",
    "sign_symp.to_csv('sign_symp.csv')"
   ]
  },
  {
   "cell_type": "code",
   "execution_count": 13,
   "metadata": {},
   "outputs": [
    {
     "data": {
      "text/plain": [
       "subject_id\n",
       "75                               \n",
       "109                        alert \n",
       "188                lethargy pain \n",
       "214                      limited \n",
       "222    active bleed active bleed \n",
       "Name: text, dtype: object"
      ]
     },
     "execution_count": 13,
     "metadata": {},
     "output_type": "execute_result"
    }
   ],
   "source": [
    "sign_symp.head()"
   ]
  },
  {
   "cell_type": "code",
   "execution_count": 14,
   "metadata": {},
   "outputs": [
    {
     "data": {
      "text/html": [
       "<div>\n",
       "<style scoped>\n",
       "    .dataframe tbody tr th:only-of-type {\n",
       "        vertical-align: middle;\n",
       "    }\n",
       "\n",
       "    .dataframe tbody tr th {\n",
       "        vertical-align: top;\n",
       "    }\n",
       "\n",
       "    .dataframe thead th {\n",
       "        text-align: right;\n",
       "    }\n",
       "</style>\n",
       "<table border=\"1\" class=\"dataframe\">\n",
       "  <thead>\n",
       "    <tr style=\"text-align: right;\">\n",
       "      <th></th>\n",
       "      <th>subject_id</th>\n",
       "      <th>ndc</th>\n",
       "    </tr>\n",
       "  </thead>\n",
       "  <tbody>\n",
       "    <tr>\n",
       "      <th>0</th>\n",
       "      <td>75</td>\n",
       "      <td>9.044041e+08</td>\n",
       "    </tr>\n",
       "    <tr>\n",
       "      <th>1</th>\n",
       "      <td>75</td>\n",
       "      <td>9.045262e+08</td>\n",
       "    </tr>\n",
       "    <tr>\n",
       "      <th>2</th>\n",
       "      <td>75</td>\n",
       "      <td>1.210752e+08</td>\n",
       "    </tr>\n",
       "    <tr>\n",
       "      <th>3</th>\n",
       "      <td>75</td>\n",
       "      <td>6.373901e+10</td>\n",
       "    </tr>\n",
       "    <tr>\n",
       "      <th>4</th>\n",
       "      <td>75</td>\n",
       "      <td>1.210544e+08</td>\n",
       "    </tr>\n",
       "  </tbody>\n",
       "</table>\n",
       "</div>"
      ],
      "text/plain": [
       "   subject_id           ndc\n",
       "0          75  9.044041e+08\n",
       "1          75  9.045262e+08\n",
       "2          75  1.210752e+08\n",
       "3          75  6.373901e+10\n",
       "4          75  1.210544e+08"
      ]
     },
     "execution_count": 14,
     "metadata": {},
     "output_type": "execute_result"
    }
   ],
   "source": [
    "all_scripts.head()"
   ]
  },
  {
   "cell_type": "code",
   "execution_count": 15,
   "metadata": {},
   "outputs": [],
   "source": [
    "all_scripts = all_scripts.dropna()"
   ]
  },
  {
   "cell_type": "code",
   "execution_count": 16,
   "metadata": {},
   "outputs": [],
   "source": [
    "all_scripts['ndc'] = all_scripts['ndc'].astype('int64').astype('str')\n",
    "all_scripts['ndc'] = all_scripts['ndc'].str.zfill(11)"
   ]
  },
  {
   "cell_type": "code",
   "execution_count": 17,
   "metadata": {},
   "outputs": [
    {
     "data": {
      "text/html": [
       "<div>\n",
       "<style scoped>\n",
       "    .dataframe tbody tr th:only-of-type {\n",
       "        vertical-align: middle;\n",
       "    }\n",
       "\n",
       "    .dataframe tbody tr th {\n",
       "        vertical-align: top;\n",
       "    }\n",
       "\n",
       "    .dataframe thead th {\n",
       "        text-align: right;\n",
       "    }\n",
       "</style>\n",
       "<table border=\"1\" class=\"dataframe\">\n",
       "  <thead>\n",
       "    <tr style=\"text-align: right;\">\n",
       "      <th></th>\n",
       "      <th>subject_id</th>\n",
       "      <th>ndc</th>\n",
       "    </tr>\n",
       "  </thead>\n",
       "  <tbody>\n",
       "    <tr>\n",
       "      <th>0</th>\n",
       "      <td>75</td>\n",
       "      <td>00904404073</td>\n",
       "    </tr>\n",
       "    <tr>\n",
       "      <th>1</th>\n",
       "      <td>75</td>\n",
       "      <td>00904526161</td>\n",
       "    </tr>\n",
       "    <tr>\n",
       "      <th>2</th>\n",
       "      <td>75</td>\n",
       "      <td>00121075210</td>\n",
       "    </tr>\n",
       "    <tr>\n",
       "      <th>3</th>\n",
       "      <td>75</td>\n",
       "      <td>63739008901</td>\n",
       "    </tr>\n",
       "    <tr>\n",
       "      <th>4</th>\n",
       "      <td>75</td>\n",
       "      <td>00121054410</td>\n",
       "    </tr>\n",
       "  </tbody>\n",
       "</table>\n",
       "</div>"
      ],
      "text/plain": [
       "   subject_id          ndc\n",
       "0          75  00904404073\n",
       "1          75  00904526161\n",
       "2          75  00121075210\n",
       "3          75  63739008901\n",
       "4          75  00121054410"
      ]
     },
     "execution_count": 17,
     "metadata": {},
     "output_type": "execute_result"
    }
   ],
   "source": [
    "all_scripts.head()"
   ]
  },
  {
   "cell_type": "code",
   "execution_count": 18,
   "metadata": {},
   "outputs": [],
   "source": [
    "# ndc.head()"
   ]
  },
  {
   "cell_type": "code",
   "execution_count": 19,
   "metadata": {},
   "outputs": [],
   "source": [
    "epe = EPCEngine()\n",
    "all_scripts['ndc'] = all_scripts['ndc'].apply(lambda x: epe.get_epc(x)['ndc'])"
   ]
  },
  {
   "cell_type": "code",
   "execution_count": 20,
   "metadata": {},
   "outputs": [
    {
     "data": {
      "text/html": [
       "<div>\n",
       "<style scoped>\n",
       "    .dataframe tbody tr th:only-of-type {\n",
       "        vertical-align: middle;\n",
       "    }\n",
       "\n",
       "    .dataframe tbody tr th {\n",
       "        vertical-align: top;\n",
       "    }\n",
       "\n",
       "    .dataframe thead th {\n",
       "        text-align: right;\n",
       "    }\n",
       "</style>\n",
       "<table border=\"1\" class=\"dataframe\">\n",
       "  <thead>\n",
       "    <tr style=\"text-align: right;\">\n",
       "      <th></th>\n",
       "      <th>subject_id</th>\n",
       "      <th>ndc</th>\n",
       "    </tr>\n",
       "  </thead>\n",
       "  <tbody>\n",
       "    <tr>\n",
       "      <th>0</th>\n",
       "      <td>75</td>\n",
       "      <td>0904-4040</td>\n",
       "    </tr>\n",
       "    <tr>\n",
       "      <th>1</th>\n",
       "      <td>75</td>\n",
       "      <td>na</td>\n",
       "    </tr>\n",
       "    <tr>\n",
       "      <th>2</th>\n",
       "      <td>75</td>\n",
       "      <td>na</td>\n",
       "    </tr>\n",
       "    <tr>\n",
       "      <th>3</th>\n",
       "      <td>75</td>\n",
       "      <td>63739-089</td>\n",
       "    </tr>\n",
       "    <tr>\n",
       "      <th>4</th>\n",
       "      <td>75</td>\n",
       "      <td>0121-0544</td>\n",
       "    </tr>\n",
       "  </tbody>\n",
       "</table>\n",
       "</div>"
      ],
      "text/plain": [
       "   subject_id        ndc\n",
       "0          75  0904-4040\n",
       "1          75         na\n",
       "2          75         na\n",
       "3          75  63739-089\n",
       "4          75  0121-0544"
      ]
     },
     "execution_count": 20,
     "metadata": {},
     "output_type": "execute_result"
    }
   ],
   "source": [
    "all_scripts.head()"
   ]
  },
  {
   "cell_type": "code",
   "execution_count": 21,
   "metadata": {},
   "outputs": [],
   "source": [
    "ndc_map = pd.Series(ndc['PHARM_CLASSES'].values,index=ndc['PRODUCTNDC']).to_dict()"
   ]
  },
  {
   "cell_type": "code",
   "execution_count": 22,
   "metadata": {},
   "outputs": [],
   "source": [
    "all_scripts['pharm_classes'] = all_scripts['ndc'].map(ndc_map)"
   ]
  },
  {
   "cell_type": "code",
   "execution_count": 23,
   "metadata": {},
   "outputs": [
    {
     "data": {
      "text/html": [
       "<div>\n",
       "<style scoped>\n",
       "    .dataframe tbody tr th:only-of-type {\n",
       "        vertical-align: middle;\n",
       "    }\n",
       "\n",
       "    .dataframe tbody tr th {\n",
       "        vertical-align: top;\n",
       "    }\n",
       "\n",
       "    .dataframe thead th {\n",
       "        text-align: right;\n",
       "    }\n",
       "</style>\n",
       "<table border=\"1\" class=\"dataframe\">\n",
       "  <thead>\n",
       "    <tr style=\"text-align: right;\">\n",
       "      <th></th>\n",
       "      <th>subject_id</th>\n",
       "      <th>ndc</th>\n",
       "      <th>pharm_classes</th>\n",
       "    </tr>\n",
       "  </thead>\n",
       "  <tbody>\n",
       "    <tr>\n",
       "      <th>0</th>\n",
       "      <td>75</td>\n",
       "      <td>0904-4040</td>\n",
       "      <td>Anti-Inflammatory Agents, Non-Steroidal [CS], ...</td>\n",
       "    </tr>\n",
       "    <tr>\n",
       "      <th>1</th>\n",
       "      <td>75</td>\n",
       "      <td>na</td>\n",
       "      <td>NaN</td>\n",
       "    </tr>\n",
       "    <tr>\n",
       "      <th>2</th>\n",
       "      <td>75</td>\n",
       "      <td>na</td>\n",
       "      <td>NaN</td>\n",
       "    </tr>\n",
       "    <tr>\n",
       "      <th>3</th>\n",
       "      <td>75</td>\n",
       "      <td>63739-089</td>\n",
       "      <td>NaN</td>\n",
       "    </tr>\n",
       "    <tr>\n",
       "      <th>4</th>\n",
       "      <td>75</td>\n",
       "      <td>0121-0544</td>\n",
       "      <td>NaN</td>\n",
       "    </tr>\n",
       "  </tbody>\n",
       "</table>\n",
       "</div>"
      ],
      "text/plain": [
       "   subject_id        ndc                                      pharm_classes\n",
       "0          75  0904-4040  Anti-Inflammatory Agents, Non-Steroidal [CS], ...\n",
       "1          75         na                                                NaN\n",
       "2          75         na                                                NaN\n",
       "3          75  63739-089                                                NaN\n",
       "4          75  0121-0544                                                NaN"
      ]
     },
     "execution_count": 23,
     "metadata": {},
     "output_type": "execute_result"
    }
   ],
   "source": [
    "all_scripts.head()"
   ]
  },
  {
   "cell_type": "code",
   "execution_count": 24,
   "metadata": {},
   "outputs": [],
   "source": [
    "all_scripts = all_scripts.dropna(subset=['pharm_classes'])"
   ]
  },
  {
   "cell_type": "code",
   "execution_count": 25,
   "metadata": {},
   "outputs": [],
   "source": [
    "all_scripts['pharm_classes'] = all_scripts['pharm_classes'].astype(str)"
   ]
  },
  {
   "cell_type": "code",
   "execution_count": 26,
   "metadata": {},
   "outputs": [],
   "source": [
    "scripts_grpd = all_scripts.groupby('subject_id')['pharm_classes'].apply(lambda x: ' '.join(x))\n",
    "scripts_grpd.to_csv('sign_symp.csv')"
   ]
  },
  {
   "cell_type": "code",
   "execution_count": 27,
   "metadata": {},
   "outputs": [
    {
     "data": {
      "text/plain": [
       "subject_id\n",
       "75     Anti-Inflammatory Agents, Non-Steroidal [CS], ...\n",
       "109    Angiotensin 2 Receptor Antagonists [MoA], Angi...\n",
       "188    Increased Large Intestinal Motility [PE], Inhi...\n",
       "214    HMG-CoA Reductase Inhibitor [EPC], Hydroxymeth...\n",
       "222    Adrenergic beta-Antagonists [MoA], beta-Adrene...\n",
       "Name: pharm_classes, dtype: object"
      ]
     },
     "execution_count": 27,
     "metadata": {},
     "output_type": "execute_result"
    }
   ],
   "source": [
    "scripts_grpd.head()"
   ]
  },
  {
   "cell_type": "code",
   "execution_count": 28,
   "metadata": {},
   "outputs": [
    {
     "data": {
      "text/html": [
       "<div>\n",
       "<style scoped>\n",
       "    .dataframe tbody tr th:only-of-type {\n",
       "        vertical-align: middle;\n",
       "    }\n",
       "\n",
       "    .dataframe tbody tr th {\n",
       "        vertical-align: top;\n",
       "    }\n",
       "\n",
       "    .dataframe thead th {\n",
       "        text-align: right;\n",
       "    }\n",
       "</style>\n",
       "<table border=\"1\" class=\"dataframe\">\n",
       "  <thead>\n",
       "    <tr style=\"text-align: right;\">\n",
       "      <th></th>\n",
       "      <th>subject_id</th>\n",
       "      <th>icd9_code</th>\n",
       "    </tr>\n",
       "  </thead>\n",
       "  <tbody>\n",
       "    <tr>\n",
       "      <th>0</th>\n",
       "      <td>109</td>\n",
       "      <td>40301</td>\n",
       "    </tr>\n",
       "    <tr>\n",
       "      <th>1</th>\n",
       "      <td>109</td>\n",
       "      <td>486</td>\n",
       "    </tr>\n",
       "    <tr>\n",
       "      <th>2</th>\n",
       "      <td>109</td>\n",
       "      <td>58281</td>\n",
       "    </tr>\n",
       "    <tr>\n",
       "      <th>3</th>\n",
       "      <td>109</td>\n",
       "      <td>5855</td>\n",
       "    </tr>\n",
       "    <tr>\n",
       "      <th>4</th>\n",
       "      <td>109</td>\n",
       "      <td>4254</td>\n",
       "    </tr>\n",
       "  </tbody>\n",
       "</table>\n",
       "</div>"
      ],
      "text/plain": [
       "   subject_id icd9_code\n",
       "0         109     40301\n",
       "1         109       486\n",
       "2         109     58281\n",
       "3         109      5855\n",
       "4         109      4254"
      ]
     },
     "execution_count": 28,
     "metadata": {},
     "output_type": "execute_result"
    }
   ],
   "source": [
    "diag.head()"
   ]
  },
  {
   "cell_type": "code",
   "execution_count": 29,
   "metadata": {},
   "outputs": [
    {
     "data": {
      "text/html": [
       "<div>\n",
       "<style scoped>\n",
       "    .dataframe tbody tr th:only-of-type {\n",
       "        vertical-align: middle;\n",
       "    }\n",
       "\n",
       "    .dataframe tbody tr th {\n",
       "        vertical-align: top;\n",
       "    }\n",
       "\n",
       "    .dataframe thead th {\n",
       "        text-align: right;\n",
       "    }\n",
       "</style>\n",
       "<table border=\"1\" class=\"dataframe\">\n",
       "  <thead>\n",
       "    <tr style=\"text-align: right;\">\n",
       "      <th></th>\n",
       "      <th>row_id</th>\n",
       "      <th>icd9_code</th>\n",
       "      <th>short_title</th>\n",
       "      <th>long_title</th>\n",
       "    </tr>\n",
       "  </thead>\n",
       "  <tbody>\n",
       "    <tr>\n",
       "      <th>0</th>\n",
       "      <td>174</td>\n",
       "      <td>01166</td>\n",
       "      <td>TB pneumonia-oth test</td>\n",
       "      <td>Tuberculous pneumonia [any form], tubercle bac...</td>\n",
       "    </tr>\n",
       "    <tr>\n",
       "      <th>1</th>\n",
       "      <td>175</td>\n",
       "      <td>01170</td>\n",
       "      <td>TB pneumothorax-unspec</td>\n",
       "      <td>Tuberculous pneumothorax, unspecified</td>\n",
       "    </tr>\n",
       "    <tr>\n",
       "      <th>2</th>\n",
       "      <td>176</td>\n",
       "      <td>01171</td>\n",
       "      <td>TB pneumothorax-no exam</td>\n",
       "      <td>Tuberculous pneumothorax, bacteriological or h...</td>\n",
       "    </tr>\n",
       "    <tr>\n",
       "      <th>3</th>\n",
       "      <td>177</td>\n",
       "      <td>01172</td>\n",
       "      <td>TB pneumothorx-exam unkn</td>\n",
       "      <td>Tuberculous pneumothorax, bacteriological or h...</td>\n",
       "    </tr>\n",
       "    <tr>\n",
       "      <th>4</th>\n",
       "      <td>178</td>\n",
       "      <td>01173</td>\n",
       "      <td>TB pneumothorax-micro dx</td>\n",
       "      <td>Tuberculous pneumothorax, tubercle bacilli fou...</td>\n",
       "    </tr>\n",
       "  </tbody>\n",
       "</table>\n",
       "</div>"
      ],
      "text/plain": [
       "   row_id icd9_code               short_title  \\\n",
       "0     174     01166     TB pneumonia-oth test   \n",
       "1     175     01170    TB pneumothorax-unspec   \n",
       "2     176     01171   TB pneumothorax-no exam   \n",
       "3     177     01172  TB pneumothorx-exam unkn   \n",
       "4     178     01173  TB pneumothorax-micro dx   \n",
       "\n",
       "                                          long_title  \n",
       "0  Tuberculous pneumonia [any form], tubercle bac...  \n",
       "1              Tuberculous pneumothorax, unspecified  \n",
       "2  Tuberculous pneumothorax, bacteriological or h...  \n",
       "3  Tuberculous pneumothorax, bacteriological or h...  \n",
       "4  Tuberculous pneumothorax, tubercle bacilli fou...  "
      ]
     },
     "execution_count": 29,
     "metadata": {},
     "output_type": "execute_result"
    }
   ],
   "source": [
    "desc.head()"
   ]
  },
  {
   "cell_type": "code",
   "execution_count": 30,
   "metadata": {},
   "outputs": [
    {
     "data": {
      "text/html": [
       "<div>\n",
       "<style scoped>\n",
       "    .dataframe tbody tr th:only-of-type {\n",
       "        vertical-align: middle;\n",
       "    }\n",
       "\n",
       "    .dataframe tbody tr th {\n",
       "        vertical-align: top;\n",
       "    }\n",
       "\n",
       "    .dataframe thead th {\n",
       "        text-align: right;\n",
       "    }\n",
       "</style>\n",
       "<table border=\"1\" class=\"dataframe\">\n",
       "  <thead>\n",
       "    <tr style=\"text-align: right;\">\n",
       "      <th></th>\n",
       "      <th>subject_id</th>\n",
       "      <th>icd9_code</th>\n",
       "    </tr>\n",
       "  </thead>\n",
       "  <tbody>\n",
       "    <tr>\n",
       "      <th>0</th>\n",
       "      <td>109</td>\n",
       "      <td>Mal hyp kid w cr kid V</td>\n",
       "    </tr>\n",
       "    <tr>\n",
       "      <th>1</th>\n",
       "      <td>109</td>\n",
       "      <td>Pneumonia, organism NOS</td>\n",
       "    </tr>\n",
       "    <tr>\n",
       "      <th>2</th>\n",
       "      <td>109</td>\n",
       "      <td>Chr nephritis in oth dis</td>\n",
       "    </tr>\n",
       "    <tr>\n",
       "      <th>3</th>\n",
       "      <td>109</td>\n",
       "      <td>Chron kidney dis stage V</td>\n",
       "    </tr>\n",
       "    <tr>\n",
       "      <th>4</th>\n",
       "      <td>109</td>\n",
       "      <td>Prim cardiomyopathy NEC</td>\n",
       "    </tr>\n",
       "  </tbody>\n",
       "</table>\n",
       "</div>"
      ],
      "text/plain": [
       "   subject_id                 icd9_code\n",
       "0         109    Mal hyp kid w cr kid V\n",
       "1         109   Pneumonia, organism NOS\n",
       "2         109  Chr nephritis in oth dis\n",
       "3         109  Chron kidney dis stage V\n",
       "4         109   Prim cardiomyopathy NEC"
      ]
     },
     "execution_count": 30,
     "metadata": {},
     "output_type": "execute_result"
    }
   ],
   "source": [
    "icd_map = pd.Series(desc['short_title'].values, index=desc['icd9_code']).to_dict()\n",
    "diag['icd9_code'] = diag['icd9_code'].map(icd_map)\n",
    "diag.head()"
   ]
  },
  {
   "cell_type": "code",
   "execution_count": 31,
   "metadata": {},
   "outputs": [],
   "source": [
    "diag['icd9_code'] = diag['icd9_code'].astype(str)\n",
    "diag_grpd = diag.groupby('subject_id')['icd9_code'].apply(lambda x: ' '.join(x))\n",
    "diag_grpd.to_csv('sign_symp.csv')"
   ]
  },
  {
   "cell_type": "code",
   "execution_count": 32,
   "metadata": {},
   "outputs": [
    {
     "data": {
      "text/plain": [
       "False"
      ]
     },
     "execution_count": 32,
     "metadata": {},
     "output_type": "execute_result"
    }
   ],
   "source": [
    "diag_grpd.isna().any()"
   ]
  },
  {
   "cell_type": "code",
   "execution_count": 33,
   "metadata": {},
   "outputs": [],
   "source": [
    "cohort = cohort.merge(sign_symp, on='subject_id', how='left')\n",
    "cohort = cohort.merge(scripts_grpd, on='subject_id', how='left')\n",
    "cohort = cohort.merge(diag_grpd, on='subject_id', how='left')\n",
    "cohort = cohort.fillna('')\n",
    "cohort = cohort.rename(columns={'text':'notes'})"
   ]
  },
  {
   "cell_type": "code",
   "execution_count": 34,
   "metadata": {},
   "outputs": [
    {
     "data": {
      "text/html": [
       "<div>\n",
       "<style scoped>\n",
       "    .dataframe tbody tr th:only-of-type {\n",
       "        vertical-align: middle;\n",
       "    }\n",
       "\n",
       "    .dataframe tbody tr th {\n",
       "        vertical-align: top;\n",
       "    }\n",
       "\n",
       "    .dataframe thead th {\n",
       "        text-align: right;\n",
       "    }\n",
       "</style>\n",
       "<table border=\"1\" class=\"dataframe\">\n",
       "  <thead>\n",
       "    <tr style=\"text-align: right;\">\n",
       "      <th></th>\n",
       "      <th>subject_id</th>\n",
       "      <th>target</th>\n",
       "      <th>notes</th>\n",
       "      <th>pharm_classes</th>\n",
       "      <th>icd9_code</th>\n",
       "    </tr>\n",
       "  </thead>\n",
       "  <tbody>\n",
       "    <tr>\n",
       "      <th>0</th>\n",
       "      <td>109</td>\n",
       "      <td>1.0</td>\n",
       "      <td>alert</td>\n",
       "      <td>Angiotensin 2 Receptor Antagonists [MoA], Angi...</td>\n",
       "      <td>Mal hyp kid w cr kid V Pneumonia, organism NOS...</td>\n",
       "    </tr>\n",
       "    <tr>\n",
       "      <th>1</th>\n",
       "      <td>188</td>\n",
       "      <td>1.0</td>\n",
       "      <td>lethargy pain</td>\n",
       "      <td>Increased Large Intestinal Motility [PE], Inhi...</td>\n",
       "      <td>Compl liver transplant Acute respiratry failur...</td>\n",
       "    </tr>\n",
       "    <tr>\n",
       "      <th>2</th>\n",
       "      <td>222</td>\n",
       "      <td>1.0</td>\n",
       "      <td>active bleed active bleed</td>\n",
       "      <td>Adrenergic beta-Antagonists [MoA], beta-Adrene...</td>\n",
       "      <td>Mal neo lower lobe lung Acute &amp; chronc resp fa...</td>\n",
       "    </tr>\n",
       "    <tr>\n",
       "      <th>3</th>\n",
       "      <td>236</td>\n",
       "      <td>1.0</td>\n",
       "      <td>normal in echogenicity pleural effusion</td>\n",
       "      <td>Increased Large Intestinal Motility [PE], Inhi...</td>\n",
       "      <td>Acute necrosis of liver Malignant neo liver NO...</td>\n",
       "    </tr>\n",
       "    <tr>\n",
       "      <th>4</th>\n",
       "      <td>305</td>\n",
       "      <td>1.0</td>\n",
       "      <td>pain pain pain ileus nausea vomiting pain ileus</td>\n",
       "      <td>Insulin [CS], Insulin [EPC] Insulin [CS], Insu...</td>\n",
       "      <td>Subendo infarct, initial Mitral valve disorder...</td>\n",
       "    </tr>\n",
       "  </tbody>\n",
       "</table>\n",
       "</div>"
      ],
      "text/plain": [
       "   subject_id  target                                             notes  \\\n",
       "0         109     1.0                                            alert    \n",
       "1         188     1.0                                    lethargy pain    \n",
       "2         222     1.0                        active bleed active bleed    \n",
       "3         236     1.0          normal in echogenicity pleural effusion    \n",
       "4         305     1.0  pain pain pain ileus nausea vomiting pain ileus    \n",
       "\n",
       "                                       pharm_classes  \\\n",
       "0  Angiotensin 2 Receptor Antagonists [MoA], Angi...   \n",
       "1  Increased Large Intestinal Motility [PE], Inhi...   \n",
       "2  Adrenergic beta-Antagonists [MoA], beta-Adrene...   \n",
       "3  Increased Large Intestinal Motility [PE], Inhi...   \n",
       "4  Insulin [CS], Insulin [EPC] Insulin [CS], Insu...   \n",
       "\n",
       "                                           icd9_code  \n",
       "0  Mal hyp kid w cr kid V Pneumonia, organism NOS...  \n",
       "1  Compl liver transplant Acute respiratry failur...  \n",
       "2  Mal neo lower lobe lung Acute & chronc resp fa...  \n",
       "3  Acute necrosis of liver Malignant neo liver NO...  \n",
       "4  Subendo infarct, initial Mitral valve disorder...  "
      ]
     },
     "execution_count": 34,
     "metadata": {},
     "output_type": "execute_result"
    }
   ],
   "source": [
    "cohort.head()"
   ]
  },
  {
   "cell_type": "code",
   "execution_count": 35,
   "metadata": {},
   "outputs": [],
   "source": [
    "cohort['medication_diagnosis'] = cohort['pharm_classes'] + cohort['icd9_code']\n",
    "cohort['medication_diagnosis_notes'] = cohort['notes'] + cohort['pharm_classes'] + cohort['icd9_code']"
   ]
  },
  {
   "cell_type": "code",
   "execution_count": 36,
   "metadata": {},
   "outputs": [
    {
     "data": {
      "text/html": [
       "<div>\n",
       "<style scoped>\n",
       "    .dataframe tbody tr th:only-of-type {\n",
       "        vertical-align: middle;\n",
       "    }\n",
       "\n",
       "    .dataframe tbody tr th {\n",
       "        vertical-align: top;\n",
       "    }\n",
       "\n",
       "    .dataframe thead th {\n",
       "        text-align: right;\n",
       "    }\n",
       "</style>\n",
       "<table border=\"1\" class=\"dataframe\">\n",
       "  <thead>\n",
       "    <tr style=\"text-align: right;\">\n",
       "      <th></th>\n",
       "      <th>subject_id</th>\n",
       "      <th>target</th>\n",
       "      <th>notes</th>\n",
       "      <th>pharm_classes</th>\n",
       "      <th>icd9_code</th>\n",
       "      <th>medication_diagnosis</th>\n",
       "      <th>medication_diagnosis_notes</th>\n",
       "    </tr>\n",
       "  </thead>\n",
       "  <tbody>\n",
       "    <tr>\n",
       "      <th>0</th>\n",
       "      <td>109</td>\n",
       "      <td>1.0</td>\n",
       "      <td>alert</td>\n",
       "      <td>Angiotensin 2 Receptor Antagonists [MoA], Angi...</td>\n",
       "      <td>Mal hyp kid w cr kid V Pneumonia, organism NOS...</td>\n",
       "      <td>Angiotensin 2 Receptor Antagonists [MoA], Angi...</td>\n",
       "      <td>alert Angiotensin 2 Receptor Antagonists [MoA]...</td>\n",
       "    </tr>\n",
       "    <tr>\n",
       "      <th>1</th>\n",
       "      <td>188</td>\n",
       "      <td>1.0</td>\n",
       "      <td>lethargy pain</td>\n",
       "      <td>Increased Large Intestinal Motility [PE], Inhi...</td>\n",
       "      <td>Compl liver transplant Acute respiratry failur...</td>\n",
       "      <td>Increased Large Intestinal Motility [PE], Inhi...</td>\n",
       "      <td>lethargy pain Increased Large Intestinal Motil...</td>\n",
       "    </tr>\n",
       "    <tr>\n",
       "      <th>2</th>\n",
       "      <td>222</td>\n",
       "      <td>1.0</td>\n",
       "      <td>active bleed active bleed</td>\n",
       "      <td>Adrenergic beta-Antagonists [MoA], beta-Adrene...</td>\n",
       "      <td>Mal neo lower lobe lung Acute &amp; chronc resp fa...</td>\n",
       "      <td>Adrenergic beta-Antagonists [MoA], beta-Adrene...</td>\n",
       "      <td>active bleed active bleed Adrenergic beta-Anta...</td>\n",
       "    </tr>\n",
       "    <tr>\n",
       "      <th>3</th>\n",
       "      <td>236</td>\n",
       "      <td>1.0</td>\n",
       "      <td>normal in echogenicity pleural effusion</td>\n",
       "      <td>Increased Large Intestinal Motility [PE], Inhi...</td>\n",
       "      <td>Acute necrosis of liver Malignant neo liver NO...</td>\n",
       "      <td>Increased Large Intestinal Motility [PE], Inhi...</td>\n",
       "      <td>normal in echogenicity pleural effusion Increa...</td>\n",
       "    </tr>\n",
       "    <tr>\n",
       "      <th>4</th>\n",
       "      <td>305</td>\n",
       "      <td>1.0</td>\n",
       "      <td>pain pain pain ileus nausea vomiting pain ileus</td>\n",
       "      <td>Insulin [CS], Insulin [EPC] Insulin [CS], Insu...</td>\n",
       "      <td>Subendo infarct, initial Mitral valve disorder...</td>\n",
       "      <td>Insulin [CS], Insulin [EPC] Insulin [CS], Insu...</td>\n",
       "      <td>pain pain pain ileus nausea vomiting pain ileu...</td>\n",
       "    </tr>\n",
       "  </tbody>\n",
       "</table>\n",
       "</div>"
      ],
      "text/plain": [
       "   subject_id  target                                             notes  \\\n",
       "0         109     1.0                                            alert    \n",
       "1         188     1.0                                    lethargy pain    \n",
       "2         222     1.0                        active bleed active bleed    \n",
       "3         236     1.0          normal in echogenicity pleural effusion    \n",
       "4         305     1.0  pain pain pain ileus nausea vomiting pain ileus    \n",
       "\n",
       "                                       pharm_classes  \\\n",
       "0  Angiotensin 2 Receptor Antagonists [MoA], Angi...   \n",
       "1  Increased Large Intestinal Motility [PE], Inhi...   \n",
       "2  Adrenergic beta-Antagonists [MoA], beta-Adrene...   \n",
       "3  Increased Large Intestinal Motility [PE], Inhi...   \n",
       "4  Insulin [CS], Insulin [EPC] Insulin [CS], Insu...   \n",
       "\n",
       "                                           icd9_code  \\\n",
       "0  Mal hyp kid w cr kid V Pneumonia, organism NOS...   \n",
       "1  Compl liver transplant Acute respiratry failur...   \n",
       "2  Mal neo lower lobe lung Acute & chronc resp fa...   \n",
       "3  Acute necrosis of liver Malignant neo liver NO...   \n",
       "4  Subendo infarct, initial Mitral valve disorder...   \n",
       "\n",
       "                                medication_diagnosis  \\\n",
       "0  Angiotensin 2 Receptor Antagonists [MoA], Angi...   \n",
       "1  Increased Large Intestinal Motility [PE], Inhi...   \n",
       "2  Adrenergic beta-Antagonists [MoA], beta-Adrene...   \n",
       "3  Increased Large Intestinal Motility [PE], Inhi...   \n",
       "4  Insulin [CS], Insulin [EPC] Insulin [CS], Insu...   \n",
       "\n",
       "                          medication_diagnosis_notes  \n",
       "0  alert Angiotensin 2 Receptor Antagonists [MoA]...  \n",
       "1  lethargy pain Increased Large Intestinal Motil...  \n",
       "2  active bleed active bleed Adrenergic beta-Anta...  \n",
       "3  normal in echogenicity pleural effusion Increa...  \n",
       "4  pain pain pain ileus nausea vomiting pain ileu...  "
      ]
     },
     "execution_count": 36,
     "metadata": {},
     "output_type": "execute_result"
    }
   ],
   "source": [
    "cohort.head()"
   ]
  },
  {
   "cell_type": "code",
   "execution_count": 37,
   "metadata": {},
   "outputs": [],
   "source": [
    "cohort_feat = cohort[['subject_id', 'notes', 'medication_diagnosis', 'medication_diagnosis_notes', 'target']]"
   ]
  },
  {
   "cell_type": "code",
   "execution_count": 38,
   "metadata": {},
   "outputs": [
    {
     "data": {
      "text/html": [
       "<div>\n",
       "<style scoped>\n",
       "    .dataframe tbody tr th:only-of-type {\n",
       "        vertical-align: middle;\n",
       "    }\n",
       "\n",
       "    .dataframe tbody tr th {\n",
       "        vertical-align: top;\n",
       "    }\n",
       "\n",
       "    .dataframe thead th {\n",
       "        text-align: right;\n",
       "    }\n",
       "</style>\n",
       "<table border=\"1\" class=\"dataframe\">\n",
       "  <thead>\n",
       "    <tr style=\"text-align: right;\">\n",
       "      <th></th>\n",
       "      <th>subject_id</th>\n",
       "      <th>notes</th>\n",
       "      <th>medication_diagnosis</th>\n",
       "      <th>medication_diagnosis_notes</th>\n",
       "      <th>target</th>\n",
       "    </tr>\n",
       "  </thead>\n",
       "  <tbody>\n",
       "    <tr>\n",
       "      <th>0</th>\n",
       "      <td>109</td>\n",
       "      <td>alert</td>\n",
       "      <td>Angiotensin 2 Receptor Antagonists [MoA], Angi...</td>\n",
       "      <td>alert Angiotensin 2 Receptor Antagonists [MoA]...</td>\n",
       "      <td>1.0</td>\n",
       "    </tr>\n",
       "    <tr>\n",
       "      <th>1</th>\n",
       "      <td>188</td>\n",
       "      <td>lethargy pain</td>\n",
       "      <td>Increased Large Intestinal Motility [PE], Inhi...</td>\n",
       "      <td>lethargy pain Increased Large Intestinal Motil...</td>\n",
       "      <td>1.0</td>\n",
       "    </tr>\n",
       "    <tr>\n",
       "      <th>2</th>\n",
       "      <td>222</td>\n",
       "      <td>active bleed active bleed</td>\n",
       "      <td>Adrenergic beta-Antagonists [MoA], beta-Adrene...</td>\n",
       "      <td>active bleed active bleed Adrenergic beta-Anta...</td>\n",
       "      <td>1.0</td>\n",
       "    </tr>\n",
       "    <tr>\n",
       "      <th>3</th>\n",
       "      <td>236</td>\n",
       "      <td>normal in echogenicity pleural effusion</td>\n",
       "      <td>Increased Large Intestinal Motility [PE], Inhi...</td>\n",
       "      <td>normal in echogenicity pleural effusion Increa...</td>\n",
       "      <td>1.0</td>\n",
       "    </tr>\n",
       "    <tr>\n",
       "      <th>4</th>\n",
       "      <td>305</td>\n",
       "      <td>pain pain pain ileus nausea vomiting pain ileus</td>\n",
       "      <td>Insulin [CS], Insulin [EPC] Insulin [CS], Insu...</td>\n",
       "      <td>pain pain pain ileus nausea vomiting pain ileu...</td>\n",
       "      <td>1.0</td>\n",
       "    </tr>\n",
       "  </tbody>\n",
       "</table>\n",
       "</div>"
      ],
      "text/plain": [
       "   subject_id                                             notes  \\\n",
       "0         109                                            alert    \n",
       "1         188                                    lethargy pain    \n",
       "2         222                        active bleed active bleed    \n",
       "3         236          normal in echogenicity pleural effusion    \n",
       "4         305  pain pain pain ileus nausea vomiting pain ileus    \n",
       "\n",
       "                                medication_diagnosis  \\\n",
       "0  Angiotensin 2 Receptor Antagonists [MoA], Angi...   \n",
       "1  Increased Large Intestinal Motility [PE], Inhi...   \n",
       "2  Adrenergic beta-Antagonists [MoA], beta-Adrene...   \n",
       "3  Increased Large Intestinal Motility [PE], Inhi...   \n",
       "4  Insulin [CS], Insulin [EPC] Insulin [CS], Insu...   \n",
       "\n",
       "                          medication_diagnosis_notes  target  \n",
       "0  alert Angiotensin 2 Receptor Antagonists [MoA]...     1.0  \n",
       "1  lethargy pain Increased Large Intestinal Motil...     1.0  \n",
       "2  active bleed active bleed Adrenergic beta-Anta...     1.0  \n",
       "3  normal in echogenicity pleural effusion Increa...     1.0  \n",
       "4  pain pain pain ileus nausea vomiting pain ileu...     1.0  "
      ]
     },
     "execution_count": 38,
     "metadata": {},
     "output_type": "execute_result"
    }
   ],
   "source": [
    "cohort_feat.head()"
   ]
  },
  {
   "cell_type": "code",
   "execution_count": 39,
   "metadata": {},
   "outputs": [],
   "source": [
    "X_trainRaw, X_testRaw, y_trainRaw, y_testRaw = train_test_split(cohort_feat.drop('target', axis=1), cohort_feat['target'], test_size=0.30, random_state=42)"
   ]
  },
  {
   "cell_type": "code",
   "execution_count": 40,
   "metadata": {},
   "outputs": [
    {
     "data": {
      "text/html": [
       "<div>\n",
       "<style scoped>\n",
       "    .dataframe tbody tr th:only-of-type {\n",
       "        vertical-align: middle;\n",
       "    }\n",
       "\n",
       "    .dataframe tbody tr th {\n",
       "        vertical-align: top;\n",
       "    }\n",
       "\n",
       "    .dataframe thead th {\n",
       "        text-align: right;\n",
       "    }\n",
       "</style>\n",
       "<table border=\"1\" class=\"dataframe\">\n",
       "  <thead>\n",
       "    <tr style=\"text-align: right;\">\n",
       "      <th></th>\n",
       "      <th>subject_id</th>\n",
       "      <th>notes</th>\n",
       "      <th>medication_diagnosis</th>\n",
       "      <th>medication_diagnosis_notes</th>\n",
       "    </tr>\n",
       "  </thead>\n",
       "  <tbody>\n",
       "    <tr>\n",
       "      <th>599</th>\n",
       "      <td>32658</td>\n",
       "      <td>GI bleed GI bleed nodular cirrhosis ascites di...</td>\n",
       "      <td>Adrenergic beta-Antagonists [MoA], beta-Adrene...</td>\n",
       "      <td>GI bleed GI bleed nodular cirrhosis ascites di...</td>\n",
       "    </tr>\n",
       "    <tr>\n",
       "      <th>613</th>\n",
       "      <td>42327</td>\n",
       "      <td>low bibasilar opacities pleural effusions</td>\n",
       "      <td>Adrenergic beta-Antagonists [MoA], beta-Adrene...</td>\n",
       "      <td>low bibasilar opacities pleural effusions Adre...</td>\n",
       "    </tr>\n",
       "    <tr>\n",
       "      <th>312</th>\n",
       "      <td>17735</td>\n",
       "      <td>ache poor appetite fatigued unable to lie flat...</td>\n",
       "      <td>Adrenergic beta-Antagonists [MoA], beta-Adrene...</td>\n",
       "      <td>ache poor appetite fatigued unable to lie flat...</td>\n",
       "    </tr>\n",
       "    <tr>\n",
       "      <th>964</th>\n",
       "      <td>27390</td>\n",
       "      <td>Shortness of breath stenosis occlusion ulcerat...</td>\n",
       "      <td>Increased Large Intestinal Motility [PE], Inhi...</td>\n",
       "      <td>Shortness of breath stenosis occlusion ulcerat...</td>\n",
       "    </tr>\n",
       "    <tr>\n",
       "      <th>997</th>\n",
       "      <td>43737</td>\n",
       "      <td>weakness</td>\n",
       "      <td>Increased Large Intestinal Motility [PE], Inhi...</td>\n",
       "      <td>weakness Increased Large Intestinal Motility [...</td>\n",
       "    </tr>\n",
       "  </tbody>\n",
       "</table>\n",
       "</div>"
      ],
      "text/plain": [
       "     subject_id                                              notes  \\\n",
       "599       32658  GI bleed GI bleed nodular cirrhosis ascites di...   \n",
       "613       42327         low bibasilar opacities pleural effusions    \n",
       "312       17735  ache poor appetite fatigued unable to lie flat...   \n",
       "964       27390  Shortness of breath stenosis occlusion ulcerat...   \n",
       "997       43737                                          weakness    \n",
       "\n",
       "                                  medication_diagnosis  \\\n",
       "599  Adrenergic beta-Antagonists [MoA], beta-Adrene...   \n",
       "613  Adrenergic beta-Antagonists [MoA], beta-Adrene...   \n",
       "312  Adrenergic beta-Antagonists [MoA], beta-Adrene...   \n",
       "964  Increased Large Intestinal Motility [PE], Inhi...   \n",
       "997  Increased Large Intestinal Motility [PE], Inhi...   \n",
       "\n",
       "                            medication_diagnosis_notes  \n",
       "599  GI bleed GI bleed nodular cirrhosis ascites di...  \n",
       "613  low bibasilar opacities pleural effusions Adre...  \n",
       "312  ache poor appetite fatigued unable to lie flat...  \n",
       "964  Shortness of breath stenosis occlusion ulcerat...  \n",
       "997  weakness Increased Large Intestinal Motility [...  "
      ]
     },
     "execution_count": 40,
     "metadata": {},
     "output_type": "execute_result"
    }
   ],
   "source": [
    "X_trainRaw.head()\n",
    "# y_trainRaw.head()"
   ]
  },
  {
   "cell_type": "code",
   "execution_count": 41,
   "metadata": {},
   "outputs": [],
   "source": [
    "# X_testRaw.head()"
   ]
  },
  {
   "cell_type": "code",
   "execution_count": 42,
   "metadata": {},
   "outputs": [],
   "source": [
    "raw_train = pd.concat([X_trainRaw, y_trainRaw], axis=1)\n",
    "raw_test = pd.concat([X_testRaw, y_testRaw], axis=1)\n",
    "\n",
    "raw_train.to_csv('raw_train.csv')\n",
    "raw_test.to_csv('raw_test.csv')"
   ]
  },
  {
   "cell_type": "code",
   "execution_count": 43,
   "metadata": {},
   "outputs": [
    {
     "data": {
      "text/html": [
       "<div>\n",
       "<style scoped>\n",
       "    .dataframe tbody tr th:only-of-type {\n",
       "        vertical-align: middle;\n",
       "    }\n",
       "\n",
       "    .dataframe tbody tr th {\n",
       "        vertical-align: top;\n",
       "    }\n",
       "\n",
       "    .dataframe thead th {\n",
       "        text-align: right;\n",
       "    }\n",
       "</style>\n",
       "<table border=\"1\" class=\"dataframe\">\n",
       "  <thead>\n",
       "    <tr style=\"text-align: right;\">\n",
       "      <th></th>\n",
       "      <th>subject_id</th>\n",
       "      <th>notes</th>\n",
       "      <th>medication_diagnosis</th>\n",
       "      <th>medication_diagnosis_notes</th>\n",
       "      <th>target</th>\n",
       "    </tr>\n",
       "  </thead>\n",
       "  <tbody>\n",
       "    <tr>\n",
       "      <th>0</th>\n",
       "      <td>109</td>\n",
       "      <td>alert</td>\n",
       "      <td>Angiotensin 2 Receptor Antagonists [MoA], Angi...</td>\n",
       "      <td>alert Angiotensin 2 Receptor Antagonists [MoA]...</td>\n",
       "      <td>1.0</td>\n",
       "    </tr>\n",
       "    <tr>\n",
       "      <th>1</th>\n",
       "      <td>188</td>\n",
       "      <td>lethargy pain</td>\n",
       "      <td>Increased Large Intestinal Motility [PE], Inhi...</td>\n",
       "      <td>lethargy pain Increased Large Intestinal Motil...</td>\n",
       "      <td>1.0</td>\n",
       "    </tr>\n",
       "    <tr>\n",
       "      <th>2</th>\n",
       "      <td>222</td>\n",
       "      <td>active bleed active bleed</td>\n",
       "      <td>Adrenergic beta-Antagonists [MoA], beta-Adrene...</td>\n",
       "      <td>active bleed active bleed Adrenergic beta-Anta...</td>\n",
       "      <td>1.0</td>\n",
       "    </tr>\n",
       "    <tr>\n",
       "      <th>3</th>\n",
       "      <td>236</td>\n",
       "      <td>normal in echogenicity pleural effusion</td>\n",
       "      <td>Increased Large Intestinal Motility [PE], Inhi...</td>\n",
       "      <td>normal in echogenicity pleural effusion Increa...</td>\n",
       "      <td>1.0</td>\n",
       "    </tr>\n",
       "    <tr>\n",
       "      <th>4</th>\n",
       "      <td>305</td>\n",
       "      <td>pain pain pain ileus nausea vomiting pain ileus</td>\n",
       "      <td>Insulin [CS], Insulin [EPC] Insulin [CS], Insu...</td>\n",
       "      <td>pain pain pain ileus nausea vomiting pain ileu...</td>\n",
       "      <td>1.0</td>\n",
       "    </tr>\n",
       "  </tbody>\n",
       "</table>\n",
       "</div>"
      ],
      "text/plain": [
       "   subject_id                                             notes  \\\n",
       "0         109                                            alert    \n",
       "1         188                                    lethargy pain    \n",
       "2         222                        active bleed active bleed    \n",
       "3         236          normal in echogenicity pleural effusion    \n",
       "4         305  pain pain pain ileus nausea vomiting pain ileus    \n",
       "\n",
       "                                medication_diagnosis  \\\n",
       "0  Angiotensin 2 Receptor Antagonists [MoA], Angi...   \n",
       "1  Increased Large Intestinal Motility [PE], Inhi...   \n",
       "2  Adrenergic beta-Antagonists [MoA], beta-Adrene...   \n",
       "3  Increased Large Intestinal Motility [PE], Inhi...   \n",
       "4  Insulin [CS], Insulin [EPC] Insulin [CS], Insu...   \n",
       "\n",
       "                          medication_diagnosis_notes  target  \n",
       "0  alert Angiotensin 2 Receptor Antagonists [MoA]...     1.0  \n",
       "1  lethargy pain Increased Large Intestinal Motil...     1.0  \n",
       "2  active bleed active bleed Adrenergic beta-Anta...     1.0  \n",
       "3  normal in echogenicity pleural effusion Increa...     1.0  \n",
       "4  pain pain pain ileus nausea vomiting pain ileu...     1.0  "
      ]
     },
     "execution_count": 43,
     "metadata": {},
     "output_type": "execute_result"
    }
   ],
   "source": [
    "cohort_feat.head()"
   ]
  },
  {
   "cell_type": "code",
   "execution_count": 44,
   "metadata": {},
   "outputs": [],
   "source": [
    "def tf_idf(col):\n",
    "    tfIdfVectorizer = TfidfVectorizer(use_idf=True)\n",
    "    tf_idf = tfIdfVectorizer.fit_transform(cohort_feat[col].values.astype('U'))\n",
    "    tf_idf = pd.DataFrame(tf_idf.toarray())\n",
    "    fin_frame = pd.concat([cohort_feat['subject_id'], tf_idf, cohort_feat['target']], axis=1)\n",
    "    X_train, X_test, y_train, y_test = train_test_split(fin_frame.drop('target', axis=1), fin_frame['target'], test_size=0.30, random_state=42)\n",
    "    train = pd.concat([X_train, y_train], axis=1)\n",
    "    test = pd.concat([X_test, y_test], axis=1)\n",
    "    train.to_csv(col + '_' + 'train.csv')\n",
    "    test.to_csv(col + '_' + 'test.csv')"
   ]
  },
  {
   "cell_type": "code",
   "execution_count": 45,
   "metadata": {},
   "outputs": [],
   "source": [
    "_ = tf_idf('notes')\n",
    "_ = tf_idf('medication_diagnosis')\n",
    "_ = tf_idf('medication_diagnosis_notes')"
   ]
  },
  {
   "cell_type": "code",
   "execution_count": null,
   "metadata": {},
   "outputs": [],
   "source": [
    "# df = pd.DataFrame(tf_idf[0].T.todense(), index=tfIdfVectorizer.get_feature_names(), columns=[\"TF-IDF\"])\n",
    "# df = df.sort_values('TF-IDF', ascending=False)"
   ]
  }
 ],
 "metadata": {
  "interpreter": {
   "hash": "40d3a090f54c6569ab1632332b64b2c03c39dcf918b08424e98f38b5ae0af88f"
  },
  "kernelspec": {
   "display_name": "Python 3.8.12 ('base')",
   "language": "python",
   "name": "python3"
  },
  "language_info": {
   "codemirror_mode": {
    "name": "ipython",
    "version": 3
   },
   "file_extension": ".py",
   "mimetype": "text/x-python",
   "name": "python",
   "nbconvert_exporter": "python",
   "pygments_lexer": "ipython3",
   "version": "3.8.12"
  },
  "orig_nbformat": 4
 },
 "nbformat": 4,
 "nbformat_minor": 2
}
