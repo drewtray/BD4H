{
 "cells": [
  {
   "cell_type": "code",
   "execution_count": 1,
   "metadata": {},
   "outputs": [],
   "source": [
    "import matplotlib.pyplot as plt\n",
    "import pandas as pd\n",
    "import numpy as np\n",
    "\n",
    "# from sklearn.model_selection import train_test_split\n",
    "# from sklearn.model_selection import GridSearchCV\n",
    "from sklearn.model_selection import cross_val_score\n",
    "from sklearn.metrics import make_scorer\n",
    "from sklearn.metrics import classification_report\n",
    "from sklearn.metrics import recall_score\n",
    "from sklearn.metrics import f1_score\n",
    "from sklearn import preprocessing\n",
    "\n",
    "from sklearn.neighbors import KNeighborsClassifier\n",
    "from sklearn.linear_model import LogisticRegression\n",
    "from sklearn.ensemble import RandomForestClassifier\n",
    "from sklearn.svm import SVC"
   ]
  },
  {
   "cell_type": "markdown",
   "metadata": {},
   "source": [
    "Notes only"
   ]
  },
  {
   "cell_type": "code",
   "execution_count": 2,
   "metadata": {},
   "outputs": [],
   "source": [
    "notes_train = pd.read_csv('notes_train.csv', index_col=0)\n",
    "notes_test = pd.read_csv('notes_test.csv', index_col=0)"
   ]
  },
  {
   "cell_type": "code",
   "execution_count": 3,
   "metadata": {},
   "outputs": [
    {
     "data": {
      "text/html": [
       "<div>\n",
       "<style scoped>\n",
       "    .dataframe tbody tr th:only-of-type {\n",
       "        vertical-align: middle;\n",
       "    }\n",
       "\n",
       "    .dataframe tbody tr th {\n",
       "        vertical-align: top;\n",
       "    }\n",
       "\n",
       "    .dataframe thead th {\n",
       "        text-align: right;\n",
       "    }\n",
       "</style>\n",
       "<table border=\"1\" class=\"dataframe\">\n",
       "  <thead>\n",
       "    <tr style=\"text-align: right;\">\n",
       "      <th></th>\n",
       "      <th>subject_id</th>\n",
       "      <th>0</th>\n",
       "      <th>1</th>\n",
       "      <th>2</th>\n",
       "      <th>3</th>\n",
       "      <th>4</th>\n",
       "      <th>5</th>\n",
       "      <th>6</th>\n",
       "      <th>7</th>\n",
       "      <th>8</th>\n",
       "      <th>...</th>\n",
       "      <th>1610</th>\n",
       "      <th>1611</th>\n",
       "      <th>1612</th>\n",
       "      <th>1613</th>\n",
       "      <th>1614</th>\n",
       "      <th>1615</th>\n",
       "      <th>1616</th>\n",
       "      <th>1617</th>\n",
       "      <th>1618</th>\n",
       "      <th>target</th>\n",
       "    </tr>\n",
       "  </thead>\n",
       "  <tbody>\n",
       "    <tr>\n",
       "      <th>599</th>\n",
       "      <td>32658</td>\n",
       "      <td>0.0</td>\n",
       "      <td>0.0</td>\n",
       "      <td>0.0</td>\n",
       "      <td>0.0</td>\n",
       "      <td>0.0</td>\n",
       "      <td>0.0</td>\n",
       "      <td>0.0</td>\n",
       "      <td>0.0</td>\n",
       "      <td>0.0</td>\n",
       "      <td>...</td>\n",
       "      <td>0.0</td>\n",
       "      <td>0.0</td>\n",
       "      <td>0.0</td>\n",
       "      <td>0.0</td>\n",
       "      <td>0.0</td>\n",
       "      <td>0.0</td>\n",
       "      <td>0.0</td>\n",
       "      <td>0.0</td>\n",
       "      <td>0.0</td>\n",
       "      <td>1.0</td>\n",
       "    </tr>\n",
       "    <tr>\n",
       "      <th>613</th>\n",
       "      <td>42327</td>\n",
       "      <td>0.0</td>\n",
       "      <td>0.0</td>\n",
       "      <td>0.0</td>\n",
       "      <td>0.0</td>\n",
       "      <td>0.0</td>\n",
       "      <td>0.0</td>\n",
       "      <td>0.0</td>\n",
       "      <td>0.0</td>\n",
       "      <td>0.0</td>\n",
       "      <td>...</td>\n",
       "      <td>0.0</td>\n",
       "      <td>0.0</td>\n",
       "      <td>0.0</td>\n",
       "      <td>0.0</td>\n",
       "      <td>0.0</td>\n",
       "      <td>0.0</td>\n",
       "      <td>0.0</td>\n",
       "      <td>0.0</td>\n",
       "      <td>0.0</td>\n",
       "      <td>1.0</td>\n",
       "    </tr>\n",
       "    <tr>\n",
       "      <th>312</th>\n",
       "      <td>17735</td>\n",
       "      <td>0.0</td>\n",
       "      <td>0.0</td>\n",
       "      <td>0.0</td>\n",
       "      <td>0.0</td>\n",
       "      <td>0.0</td>\n",
       "      <td>0.0</td>\n",
       "      <td>0.0</td>\n",
       "      <td>0.0</td>\n",
       "      <td>0.0</td>\n",
       "      <td>...</td>\n",
       "      <td>0.0</td>\n",
       "      <td>0.0</td>\n",
       "      <td>0.0</td>\n",
       "      <td>0.0</td>\n",
       "      <td>0.0</td>\n",
       "      <td>0.0</td>\n",
       "      <td>0.0</td>\n",
       "      <td>0.0</td>\n",
       "      <td>0.0</td>\n",
       "      <td>1.0</td>\n",
       "    </tr>\n",
       "    <tr>\n",
       "      <th>964</th>\n",
       "      <td>27390</td>\n",
       "      <td>0.0</td>\n",
       "      <td>0.0</td>\n",
       "      <td>0.0</td>\n",
       "      <td>0.0</td>\n",
       "      <td>0.0</td>\n",
       "      <td>0.0</td>\n",
       "      <td>0.0</td>\n",
       "      <td>0.0</td>\n",
       "      <td>0.0</td>\n",
       "      <td>...</td>\n",
       "      <td>0.0</td>\n",
       "      <td>0.0</td>\n",
       "      <td>0.0</td>\n",
       "      <td>0.0</td>\n",
       "      <td>0.0</td>\n",
       "      <td>0.0</td>\n",
       "      <td>0.0</td>\n",
       "      <td>0.0</td>\n",
       "      <td>0.0</td>\n",
       "      <td>0.0</td>\n",
       "    </tr>\n",
       "    <tr>\n",
       "      <th>997</th>\n",
       "      <td>43737</td>\n",
       "      <td>0.0</td>\n",
       "      <td>0.0</td>\n",
       "      <td>0.0</td>\n",
       "      <td>0.0</td>\n",
       "      <td>0.0</td>\n",
       "      <td>0.0</td>\n",
       "      <td>0.0</td>\n",
       "      <td>0.0</td>\n",
       "      <td>0.0</td>\n",
       "      <td>...</td>\n",
       "      <td>0.0</td>\n",
       "      <td>0.0</td>\n",
       "      <td>0.0</td>\n",
       "      <td>0.0</td>\n",
       "      <td>0.0</td>\n",
       "      <td>0.0</td>\n",
       "      <td>0.0</td>\n",
       "      <td>0.0</td>\n",
       "      <td>0.0</td>\n",
       "      <td>0.0</td>\n",
       "    </tr>\n",
       "  </tbody>\n",
       "</table>\n",
       "<p>5 rows × 1621 columns</p>\n",
       "</div>"
      ],
      "text/plain": [
       "     subject_id    0    1    2    3    4    5    6    7    8  ...  1610  1611  \\\n",
       "599       32658  0.0  0.0  0.0  0.0  0.0  0.0  0.0  0.0  0.0  ...   0.0   0.0   \n",
       "613       42327  0.0  0.0  0.0  0.0  0.0  0.0  0.0  0.0  0.0  ...   0.0   0.0   \n",
       "312       17735  0.0  0.0  0.0  0.0  0.0  0.0  0.0  0.0  0.0  ...   0.0   0.0   \n",
       "964       27390  0.0  0.0  0.0  0.0  0.0  0.0  0.0  0.0  0.0  ...   0.0   0.0   \n",
       "997       43737  0.0  0.0  0.0  0.0  0.0  0.0  0.0  0.0  0.0  ...   0.0   0.0   \n",
       "\n",
       "     1612  1613  1614  1615  1616  1617  1618  target  \n",
       "599   0.0   0.0   0.0   0.0   0.0   0.0   0.0     1.0  \n",
       "613   0.0   0.0   0.0   0.0   0.0   0.0   0.0     1.0  \n",
       "312   0.0   0.0   0.0   0.0   0.0   0.0   0.0     1.0  \n",
       "964   0.0   0.0   0.0   0.0   0.0   0.0   0.0     0.0  \n",
       "997   0.0   0.0   0.0   0.0   0.0   0.0   0.0     0.0  \n",
       "\n",
       "[5 rows x 1621 columns]"
      ]
     },
     "execution_count": 3,
     "metadata": {},
     "output_type": "execute_result"
    }
   ],
   "source": [
    "notes_train.head()"
   ]
  },
  {
   "cell_type": "code",
   "execution_count": 4,
   "metadata": {},
   "outputs": [
    {
     "data": {
      "text/plain": [
       "1621"
      ]
     },
     "execution_count": 4,
     "metadata": {},
     "output_type": "execute_result"
    }
   ],
   "source": [
    "notes_train.shape[1]"
   ]
  },
  {
   "cell_type": "code",
   "execution_count": 5,
   "metadata": {},
   "outputs": [
    {
     "data": {
      "text/plain": [
       "1560"
      ]
     },
     "execution_count": 5,
     "metadata": {},
     "output_type": "execute_result"
    }
   ],
   "source": [
    "notes_train.shape[0] + notes_test.shape[0]"
   ]
  },
  {
   "cell_type": "code",
   "execution_count": 6,
   "metadata": {},
   "outputs": [],
   "source": [
    "X_train = notes_train.drop('target', axis=1)\n",
    "y_train = notes_train['target']\n",
    "\n",
    "X_test = notes_test.drop('target', axis=1)\n",
    "y_test = notes_test['target']"
   ]
  },
  {
   "cell_type": "code",
   "execution_count": 7,
   "metadata": {},
   "outputs": [],
   "source": [
    "models = [\n",
    "          LogisticRegression(max_iter=1000, C=3),\n",
    "          RandomForestClassifier(max_depth=15),\n",
    "          KNeighborsClassifier(n_neighbors=3),\n",
    "          SVC(),\n",
    "         ]"
   ]
  },
  {
   "cell_type": "code",
   "execution_count": 8,
   "metadata": {},
   "outputs": [
    {
     "name": "stdout",
     "output_type": "stream",
     "text": [
      "Testing LogisticRegression(C=3, max_iter=1000)\n",
      "Testing RandomForestClassifier(max_depth=15)\n",
      "Testing KNeighborsClassifier(n_neighbors=3)\n",
      "Testing SVC()\n"
     ]
    }
   ],
   "source": [
    "accuracies = []\n",
    "# predictions = []\n",
    "sensitivities = []\n",
    "specificities = []\n",
    "\n",
    "for model in models:\n",
    "    print('Testing ' + str(model))\n",
    "    # _ = model.fit(X_train, y_train)\n",
    "\n",
    "    acc = cross_val_score(model, X_train, y_train, cv=5)\n",
    "\n",
    "    # pred = model.predict(X_test)\n",
    "    sensitivity = make_scorer(recall_score)\n",
    "    specificity = make_scorer(recall_score, pos_label=0)\n",
    "\n",
    "    sens = cross_val_score(model, X_train, y_train, cv=5, scoring=sensitivity)\n",
    "    spec = cross_val_score(model, X_train, y_train, cv=5, scoring=specificity)\n",
    "\n",
    "    accuracies.append(acc)\n",
    "    # predictions.append(pred)\n",
    "    sensitivities.append(sens)\n",
    "    specificities.append(spec)\n"
   ]
  },
  {
   "cell_type": "code",
   "execution_count": 9,
   "metadata": {},
   "outputs": [
    {
     "data": {
      "text/plain": [
       "1.0    548\n",
       "0.0    544\n",
       "Name: target, dtype: int64"
      ]
     },
     "execution_count": 9,
     "metadata": {},
     "output_type": "execute_result"
    }
   ],
   "source": [
    "notes_train['target'].value_counts()\n",
    "# notes_test['target'].value_counts()"
   ]
  },
  {
   "cell_type": "code",
   "execution_count": 10,
   "metadata": {},
   "outputs": [],
   "source": [
    "mean_acc = [i.mean() for i in accuracies]\n",
    "mean_sens = [i.mean() for i in sensitivities]\n",
    "mean_spec = [i.mean() for i in specificities]"
   ]
  },
  {
   "cell_type": "code",
   "execution_count": 11,
   "metadata": {},
   "outputs": [],
   "source": [
    "notes_comp = pd.DataFrame({'Mean CV Accuracy': mean_acc,\n",
    "'Mean CV Sensitivity': mean_sens,\n",
    "'Mean CV Specificity': mean_spec}, index=['Logistic Regression', 'Random Forest', 'KNN', 'SVM']\n",
    ")"
   ]
  },
  {
   "cell_type": "markdown",
   "metadata": {},
   "source": [
    "Diagnosis + Medication Data (Structured)"
   ]
  },
  {
   "cell_type": "code",
   "execution_count": 12,
   "metadata": {},
   "outputs": [],
   "source": [
    "diagmed_train = pd.read_csv('medication_diagnosis_train.csv', index_col=0)\n",
    "diagmed_test = pd.read_csv('medication_diagnosis_test.csv', index_col=0)"
   ]
  },
  {
   "cell_type": "code",
   "execution_count": 13,
   "metadata": {},
   "outputs": [
    {
     "data": {
      "text/html": [
       "<div>\n",
       "<style scoped>\n",
       "    .dataframe tbody tr th:only-of-type {\n",
       "        vertical-align: middle;\n",
       "    }\n",
       "\n",
       "    .dataframe tbody tr th {\n",
       "        vertical-align: top;\n",
       "    }\n",
       "\n",
       "    .dataframe thead th {\n",
       "        text-align: right;\n",
       "    }\n",
       "</style>\n",
       "<table border=\"1\" class=\"dataframe\">\n",
       "  <thead>\n",
       "    <tr style=\"text-align: right;\">\n",
       "      <th></th>\n",
       "      <th>subject_id</th>\n",
       "      <th>0</th>\n",
       "      <th>1</th>\n",
       "      <th>2</th>\n",
       "      <th>3</th>\n",
       "      <th>4</th>\n",
       "      <th>5</th>\n",
       "      <th>6</th>\n",
       "      <th>7</th>\n",
       "      <th>8</th>\n",
       "      <th>...</th>\n",
       "      <th>3254</th>\n",
       "      <th>3255</th>\n",
       "      <th>3256</th>\n",
       "      <th>3257</th>\n",
       "      <th>3258</th>\n",
       "      <th>3259</th>\n",
       "      <th>3260</th>\n",
       "      <th>3261</th>\n",
       "      <th>3262</th>\n",
       "      <th>target</th>\n",
       "    </tr>\n",
       "  </thead>\n",
       "  <tbody>\n",
       "    <tr>\n",
       "      <th>599</th>\n",
       "      <td>32658</td>\n",
       "      <td>0.0</td>\n",
       "      <td>0.0</td>\n",
       "      <td>0.0</td>\n",
       "      <td>0.00000</td>\n",
       "      <td>0.0</td>\n",
       "      <td>0.0</td>\n",
       "      <td>0.0</td>\n",
       "      <td>0.0</td>\n",
       "      <td>0.0</td>\n",
       "      <td>...</td>\n",
       "      <td>0.0</td>\n",
       "      <td>0.0</td>\n",
       "      <td>0.0</td>\n",
       "      <td>0.0</td>\n",
       "      <td>0.0</td>\n",
       "      <td>0.0</td>\n",
       "      <td>0.0</td>\n",
       "      <td>0.0</td>\n",
       "      <td>0.0</td>\n",
       "      <td>1.0</td>\n",
       "    </tr>\n",
       "    <tr>\n",
       "      <th>613</th>\n",
       "      <td>42327</td>\n",
       "      <td>0.0</td>\n",
       "      <td>0.0</td>\n",
       "      <td>0.0</td>\n",
       "      <td>0.01099</td>\n",
       "      <td>0.0</td>\n",
       "      <td>0.0</td>\n",
       "      <td>0.0</td>\n",
       "      <td>0.0</td>\n",
       "      <td>0.0</td>\n",
       "      <td>...</td>\n",
       "      <td>0.0</td>\n",
       "      <td>0.0</td>\n",
       "      <td>0.0</td>\n",
       "      <td>0.0</td>\n",
       "      <td>0.0</td>\n",
       "      <td>0.0</td>\n",
       "      <td>0.0</td>\n",
       "      <td>0.0</td>\n",
       "      <td>0.0</td>\n",
       "      <td>1.0</td>\n",
       "    </tr>\n",
       "    <tr>\n",
       "      <th>312</th>\n",
       "      <td>17735</td>\n",
       "      <td>0.0</td>\n",
       "      <td>0.0</td>\n",
       "      <td>0.0</td>\n",
       "      <td>0.00000</td>\n",
       "      <td>0.0</td>\n",
       "      <td>0.0</td>\n",
       "      <td>0.0</td>\n",
       "      <td>0.0</td>\n",
       "      <td>0.0</td>\n",
       "      <td>...</td>\n",
       "      <td>0.0</td>\n",
       "      <td>0.0</td>\n",
       "      <td>0.0</td>\n",
       "      <td>0.0</td>\n",
       "      <td>0.0</td>\n",
       "      <td>0.0</td>\n",
       "      <td>0.0</td>\n",
       "      <td>0.0</td>\n",
       "      <td>0.0</td>\n",
       "      <td>1.0</td>\n",
       "    </tr>\n",
       "    <tr>\n",
       "      <th>964</th>\n",
       "      <td>27390</td>\n",
       "      <td>0.0</td>\n",
       "      <td>0.0</td>\n",
       "      <td>0.0</td>\n",
       "      <td>0.00000</td>\n",
       "      <td>0.0</td>\n",
       "      <td>0.0</td>\n",
       "      <td>0.0</td>\n",
       "      <td>0.0</td>\n",
       "      <td>0.0</td>\n",
       "      <td>...</td>\n",
       "      <td>0.0</td>\n",
       "      <td>0.0</td>\n",
       "      <td>0.0</td>\n",
       "      <td>0.0</td>\n",
       "      <td>0.0</td>\n",
       "      <td>0.0</td>\n",
       "      <td>0.0</td>\n",
       "      <td>0.0</td>\n",
       "      <td>0.0</td>\n",
       "      <td>0.0</td>\n",
       "    </tr>\n",
       "    <tr>\n",
       "      <th>997</th>\n",
       "      <td>43737</td>\n",
       "      <td>0.0</td>\n",
       "      <td>0.0</td>\n",
       "      <td>0.0</td>\n",
       "      <td>0.00000</td>\n",
       "      <td>0.0</td>\n",
       "      <td>0.0</td>\n",
       "      <td>0.0</td>\n",
       "      <td>0.0</td>\n",
       "      <td>0.0</td>\n",
       "      <td>...</td>\n",
       "      <td>0.0</td>\n",
       "      <td>0.0</td>\n",
       "      <td>0.0</td>\n",
       "      <td>0.0</td>\n",
       "      <td>0.0</td>\n",
       "      <td>0.0</td>\n",
       "      <td>0.0</td>\n",
       "      <td>0.0</td>\n",
       "      <td>0.0</td>\n",
       "      <td>0.0</td>\n",
       "    </tr>\n",
       "  </tbody>\n",
       "</table>\n",
       "<p>5 rows × 3265 columns</p>\n",
       "</div>"
      ],
      "text/plain": [
       "     subject_id    0    1    2        3    4    5    6    7    8  ...  3254  \\\n",
       "599       32658  0.0  0.0  0.0  0.00000  0.0  0.0  0.0  0.0  0.0  ...   0.0   \n",
       "613       42327  0.0  0.0  0.0  0.01099  0.0  0.0  0.0  0.0  0.0  ...   0.0   \n",
       "312       17735  0.0  0.0  0.0  0.00000  0.0  0.0  0.0  0.0  0.0  ...   0.0   \n",
       "964       27390  0.0  0.0  0.0  0.00000  0.0  0.0  0.0  0.0  0.0  ...   0.0   \n",
       "997       43737  0.0  0.0  0.0  0.00000  0.0  0.0  0.0  0.0  0.0  ...   0.0   \n",
       "\n",
       "     3255  3256  3257  3258  3259  3260  3261  3262  target  \n",
       "599   0.0   0.0   0.0   0.0   0.0   0.0   0.0   0.0     1.0  \n",
       "613   0.0   0.0   0.0   0.0   0.0   0.0   0.0   0.0     1.0  \n",
       "312   0.0   0.0   0.0   0.0   0.0   0.0   0.0   0.0     1.0  \n",
       "964   0.0   0.0   0.0   0.0   0.0   0.0   0.0   0.0     0.0  \n",
       "997   0.0   0.0   0.0   0.0   0.0   0.0   0.0   0.0     0.0  \n",
       "\n",
       "[5 rows x 3265 columns]"
      ]
     },
     "execution_count": 13,
     "metadata": {},
     "output_type": "execute_result"
    }
   ],
   "source": [
    "diagmed_train.head()"
   ]
  },
  {
   "cell_type": "code",
   "execution_count": 14,
   "metadata": {},
   "outputs": [
    {
     "data": {
      "text/plain": [
       "3265"
      ]
     },
     "execution_count": 14,
     "metadata": {},
     "output_type": "execute_result"
    }
   ],
   "source": [
    "diagmed_train.shape[1]"
   ]
  },
  {
   "cell_type": "code",
   "execution_count": 15,
   "metadata": {},
   "outputs": [
    {
     "data": {
      "text/plain": [
       "1560"
      ]
     },
     "execution_count": 15,
     "metadata": {},
     "output_type": "execute_result"
    }
   ],
   "source": [
    "diagmed_train.shape[0] + diagmed_test.shape[0]"
   ]
  },
  {
   "cell_type": "code",
   "execution_count": 16,
   "metadata": {},
   "outputs": [],
   "source": [
    "X_train = diagmed_train.drop('target', axis=1)\n",
    "y_train = diagmed_train['target']\n",
    "\n",
    "X_test = diagmed_test.drop('target', axis=1)\n",
    "y_test = diagmed_test['target']"
   ]
  },
  {
   "cell_type": "code",
   "execution_count": 17,
   "metadata": {},
   "outputs": [
    {
     "name": "stdout",
     "output_type": "stream",
     "text": [
      "Testing LogisticRegression(C=3, max_iter=1000)\n",
      "Testing RandomForestClassifier(max_depth=15)\n",
      "Testing KNeighborsClassifier(n_neighbors=3)\n",
      "Testing SVC()\n"
     ]
    }
   ],
   "source": [
    "accuracies = []\n",
    "# predictions = []\n",
    "sensitivities = []\n",
    "specificities = []\n",
    "\n",
    "for model in models:\n",
    "    print('Testing ' + str(model))\n",
    "    # _ = model.fit(X_train, y_train)\n",
    "\n",
    "    acc = cross_val_score(model, X_train, y_train, cv=5)\n",
    "\n",
    "    # pred = model.predict(X_test)\n",
    "    sensitivity = make_scorer(recall_score)\n",
    "    specificity = make_scorer(recall_score, pos_label=0)\n",
    "\n",
    "    sens = cross_val_score(model, X_train, y_train, cv=5, scoring=sensitivity)\n",
    "    spec = cross_val_score(model, X_train, y_train, cv=5, scoring=specificity)\n",
    "\n",
    "    accuracies.append(acc)\n",
    "    # predictions.append(pred)\n",
    "    sensitivities.append(sens)\n",
    "    specificities.append(spec)\n"
   ]
  },
  {
   "cell_type": "code",
   "execution_count": 18,
   "metadata": {},
   "outputs": [],
   "source": [
    "mean_acc = [i.mean() for i in accuracies]\n",
    "mean_sens = [i.mean() for i in sensitivities]\n",
    "mean_spec = [i.mean() for i in specificities]"
   ]
  },
  {
   "cell_type": "code",
   "execution_count": 19,
   "metadata": {},
   "outputs": [],
   "source": [
    "diagmed_comp = pd.DataFrame({'Mean CV Accuracy': mean_acc,\n",
    "'Mean CV Sensitivity': mean_sens,\n",
    "'Mean CV Specificity': mean_spec}, index=['Logistic Regression', 'Random Forest', 'KNN', 'SVM']\n",
    ")"
   ]
  },
  {
   "cell_type": "markdown",
   "metadata": {},
   "source": [
    "All data"
   ]
  },
  {
   "cell_type": "code",
   "execution_count": 20,
   "metadata": {},
   "outputs": [],
   "source": [
    "all_train = pd.read_csv('medication_diagnosis_notes_train.csv', index_col=0)\n",
    "all_test = pd.read_csv('medication_diagnosis_notes_test.csv', index_col=0)"
   ]
  },
  {
   "cell_type": "code",
   "execution_count": 21,
   "metadata": {},
   "outputs": [
    {
     "data": {
      "text/html": [
       "<div>\n",
       "<style scoped>\n",
       "    .dataframe tbody tr th:only-of-type {\n",
       "        vertical-align: middle;\n",
       "    }\n",
       "\n",
       "    .dataframe tbody tr th {\n",
       "        vertical-align: top;\n",
       "    }\n",
       "\n",
       "    .dataframe thead th {\n",
       "        text-align: right;\n",
       "    }\n",
       "</style>\n",
       "<table border=\"1\" class=\"dataframe\">\n",
       "  <thead>\n",
       "    <tr style=\"text-align: right;\">\n",
       "      <th></th>\n",
       "      <th>subject_id</th>\n",
       "      <th>0</th>\n",
       "      <th>1</th>\n",
       "      <th>2</th>\n",
       "      <th>3</th>\n",
       "      <th>4</th>\n",
       "      <th>5</th>\n",
       "      <th>6</th>\n",
       "      <th>7</th>\n",
       "      <th>8</th>\n",
       "      <th>...</th>\n",
       "      <th>4459</th>\n",
       "      <th>4460</th>\n",
       "      <th>4461</th>\n",
       "      <th>4462</th>\n",
       "      <th>4463</th>\n",
       "      <th>4464</th>\n",
       "      <th>4465</th>\n",
       "      <th>4466</th>\n",
       "      <th>4467</th>\n",
       "      <th>target</th>\n",
       "    </tr>\n",
       "  </thead>\n",
       "  <tbody>\n",
       "    <tr>\n",
       "      <th>599</th>\n",
       "      <td>32658</td>\n",
       "      <td>0.0</td>\n",
       "      <td>0.0</td>\n",
       "      <td>0.0</td>\n",
       "      <td>0.00000</td>\n",
       "      <td>0.0</td>\n",
       "      <td>0.0</td>\n",
       "      <td>0.0</td>\n",
       "      <td>0.0</td>\n",
       "      <td>0.0</td>\n",
       "      <td>...</td>\n",
       "      <td>0.0</td>\n",
       "      <td>0.0</td>\n",
       "      <td>0.0</td>\n",
       "      <td>0.0</td>\n",
       "      <td>0.0</td>\n",
       "      <td>0.0</td>\n",
       "      <td>0.0</td>\n",
       "      <td>0.0</td>\n",
       "      <td>0.0</td>\n",
       "      <td>1.0</td>\n",
       "    </tr>\n",
       "    <tr>\n",
       "      <th>613</th>\n",
       "      <td>42327</td>\n",
       "      <td>0.0</td>\n",
       "      <td>0.0</td>\n",
       "      <td>0.0</td>\n",
       "      <td>0.01099</td>\n",
       "      <td>0.0</td>\n",
       "      <td>0.0</td>\n",
       "      <td>0.0</td>\n",
       "      <td>0.0</td>\n",
       "      <td>0.0</td>\n",
       "      <td>...</td>\n",
       "      <td>0.0</td>\n",
       "      <td>0.0</td>\n",
       "      <td>0.0</td>\n",
       "      <td>0.0</td>\n",
       "      <td>0.0</td>\n",
       "      <td>0.0</td>\n",
       "      <td>0.0</td>\n",
       "      <td>0.0</td>\n",
       "      <td>0.0</td>\n",
       "      <td>1.0</td>\n",
       "    </tr>\n",
       "    <tr>\n",
       "      <th>312</th>\n",
       "      <td>17735</td>\n",
       "      <td>0.0</td>\n",
       "      <td>0.0</td>\n",
       "      <td>0.0</td>\n",
       "      <td>0.00000</td>\n",
       "      <td>0.0</td>\n",
       "      <td>0.0</td>\n",
       "      <td>0.0</td>\n",
       "      <td>0.0</td>\n",
       "      <td>0.0</td>\n",
       "      <td>...</td>\n",
       "      <td>0.0</td>\n",
       "      <td>0.0</td>\n",
       "      <td>0.0</td>\n",
       "      <td>0.0</td>\n",
       "      <td>0.0</td>\n",
       "      <td>0.0</td>\n",
       "      <td>0.0</td>\n",
       "      <td>0.0</td>\n",
       "      <td>0.0</td>\n",
       "      <td>1.0</td>\n",
       "    </tr>\n",
       "    <tr>\n",
       "      <th>964</th>\n",
       "      <td>27390</td>\n",
       "      <td>0.0</td>\n",
       "      <td>0.0</td>\n",
       "      <td>0.0</td>\n",
       "      <td>0.00000</td>\n",
       "      <td>0.0</td>\n",
       "      <td>0.0</td>\n",
       "      <td>0.0</td>\n",
       "      <td>0.0</td>\n",
       "      <td>0.0</td>\n",
       "      <td>...</td>\n",
       "      <td>0.0</td>\n",
       "      <td>0.0</td>\n",
       "      <td>0.0</td>\n",
       "      <td>0.0</td>\n",
       "      <td>0.0</td>\n",
       "      <td>0.0</td>\n",
       "      <td>0.0</td>\n",
       "      <td>0.0</td>\n",
       "      <td>0.0</td>\n",
       "      <td>0.0</td>\n",
       "    </tr>\n",
       "    <tr>\n",
       "      <th>997</th>\n",
       "      <td>43737</td>\n",
       "      <td>0.0</td>\n",
       "      <td>0.0</td>\n",
       "      <td>0.0</td>\n",
       "      <td>0.00000</td>\n",
       "      <td>0.0</td>\n",
       "      <td>0.0</td>\n",
       "      <td>0.0</td>\n",
       "      <td>0.0</td>\n",
       "      <td>0.0</td>\n",
       "      <td>...</td>\n",
       "      <td>0.0</td>\n",
       "      <td>0.0</td>\n",
       "      <td>0.0</td>\n",
       "      <td>0.0</td>\n",
       "      <td>0.0</td>\n",
       "      <td>0.0</td>\n",
       "      <td>0.0</td>\n",
       "      <td>0.0</td>\n",
       "      <td>0.0</td>\n",
       "      <td>0.0</td>\n",
       "    </tr>\n",
       "  </tbody>\n",
       "</table>\n",
       "<p>5 rows × 4470 columns</p>\n",
       "</div>"
      ],
      "text/plain": [
       "     subject_id    0    1    2        3    4    5    6    7    8  ...  4459  \\\n",
       "599       32658  0.0  0.0  0.0  0.00000  0.0  0.0  0.0  0.0  0.0  ...   0.0   \n",
       "613       42327  0.0  0.0  0.0  0.01099  0.0  0.0  0.0  0.0  0.0  ...   0.0   \n",
       "312       17735  0.0  0.0  0.0  0.00000  0.0  0.0  0.0  0.0  0.0  ...   0.0   \n",
       "964       27390  0.0  0.0  0.0  0.00000  0.0  0.0  0.0  0.0  0.0  ...   0.0   \n",
       "997       43737  0.0  0.0  0.0  0.00000  0.0  0.0  0.0  0.0  0.0  ...   0.0   \n",
       "\n",
       "     4460  4461  4462  4463  4464  4465  4466  4467  target  \n",
       "599   0.0   0.0   0.0   0.0   0.0   0.0   0.0   0.0     1.0  \n",
       "613   0.0   0.0   0.0   0.0   0.0   0.0   0.0   0.0     1.0  \n",
       "312   0.0   0.0   0.0   0.0   0.0   0.0   0.0   0.0     1.0  \n",
       "964   0.0   0.0   0.0   0.0   0.0   0.0   0.0   0.0     0.0  \n",
       "997   0.0   0.0   0.0   0.0   0.0   0.0   0.0   0.0     0.0  \n",
       "\n",
       "[5 rows x 4470 columns]"
      ]
     },
     "execution_count": 21,
     "metadata": {},
     "output_type": "execute_result"
    }
   ],
   "source": [
    "all_train.head()"
   ]
  },
  {
   "cell_type": "code",
   "execution_count": 22,
   "metadata": {},
   "outputs": [
    {
     "data": {
      "text/plain": [
       "4470"
      ]
     },
     "execution_count": 22,
     "metadata": {},
     "output_type": "execute_result"
    }
   ],
   "source": [
    "all_train.shape[1]"
   ]
  },
  {
   "cell_type": "code",
   "execution_count": 23,
   "metadata": {},
   "outputs": [
    {
     "data": {
      "text/plain": [
       "1560"
      ]
     },
     "execution_count": 23,
     "metadata": {},
     "output_type": "execute_result"
    }
   ],
   "source": [
    "all_train.shape[0] + all_test.shape[0]"
   ]
  },
  {
   "cell_type": "code",
   "execution_count": 24,
   "metadata": {},
   "outputs": [],
   "source": [
    "X_train = all_train.drop('target', axis=1)\n",
    "y_train = all_train['target']\n",
    "\n",
    "X_test = all_test.drop('target', axis=1)\n",
    "y_test = all_test['target']"
   ]
  },
  {
   "cell_type": "code",
   "execution_count": 25,
   "metadata": {},
   "outputs": [
    {
     "name": "stdout",
     "output_type": "stream",
     "text": [
      "Testing LogisticRegression(C=3, max_iter=1000)\n",
      "Testing RandomForestClassifier(max_depth=15)\n",
      "Testing KNeighborsClassifier(n_neighbors=3)\n",
      "Testing SVC()\n"
     ]
    }
   ],
   "source": [
    "accuracies = []\n",
    "# predictions = []\n",
    "sensitivities = []\n",
    "specificities = []\n",
    "\n",
    "for model in models:\n",
    "    print('Testing ' + str(model))\n",
    "    # _ = model.fit(X_train, y_train)\n",
    "\n",
    "    acc = cross_val_score(model, X_train, y_train, cv=5)\n",
    "\n",
    "    # pred = model.predict(X_test)\n",
    "    sensitivity = make_scorer(recall_score)\n",
    "    specificity = make_scorer(recall_score, pos_label=0)\n",
    "\n",
    "    sens = cross_val_score(model, X_train, y_train, cv=5, scoring=sensitivity)\n",
    "    spec = cross_val_score(model, X_train, y_train, cv=5, scoring=specificity)\n",
    "\n",
    "    accuracies.append(acc)\n",
    "    # predictions.append(pred)\n",
    "    sensitivities.append(sens)\n",
    "    specificities.append(spec)\n"
   ]
  },
  {
   "cell_type": "code",
   "execution_count": 26,
   "metadata": {},
   "outputs": [],
   "source": [
    "mean_acc = [i.mean() for i in accuracies]\n",
    "mean_sens = [i.mean() for i in sensitivities]\n",
    "mean_spec = [i.mean() for i in specificities]"
   ]
  },
  {
   "cell_type": "code",
   "execution_count": 27,
   "metadata": {},
   "outputs": [],
   "source": [
    "all_comp = pd.DataFrame({'Mean CV Accuracy': mean_acc,\n",
    "'Mean CV Sensitivity': mean_sens,\n",
    "'Mean CV Specificity': mean_spec}, index=['Logistic Regression', 'Random Forest', 'KNN', 'SVM']\n",
    ")"
   ]
  },
  {
   "cell_type": "code",
   "execution_count": 28,
   "metadata": {},
   "outputs": [
    {
     "data": {
      "text/html": [
       "<div>\n",
       "<style scoped>\n",
       "    .dataframe tbody tr th:only-of-type {\n",
       "        vertical-align: middle;\n",
       "    }\n",
       "\n",
       "    .dataframe tbody tr th {\n",
       "        vertical-align: top;\n",
       "    }\n",
       "\n",
       "    .dataframe thead th {\n",
       "        text-align: right;\n",
       "    }\n",
       "</style>\n",
       "<table border=\"1\" class=\"dataframe\">\n",
       "  <thead>\n",
       "    <tr style=\"text-align: right;\">\n",
       "      <th></th>\n",
       "      <th>Mean CV Accuracy</th>\n",
       "      <th>Mean CV Sensitivity</th>\n",
       "      <th>Mean CV Specificity</th>\n",
       "    </tr>\n",
       "  </thead>\n",
       "  <tbody>\n",
       "    <tr>\n",
       "      <th>Logistic Regression</th>\n",
       "      <td>0.4982</td>\n",
       "      <td>0.0000</td>\n",
       "      <td>1.0000</td>\n",
       "    </tr>\n",
       "    <tr>\n",
       "      <th>Random Forest</th>\n",
       "      <td>0.5842</td>\n",
       "      <td>0.7263</td>\n",
       "      <td>0.4301</td>\n",
       "    </tr>\n",
       "    <tr>\n",
       "      <th>KNN</th>\n",
       "      <td>0.4506</td>\n",
       "      <td>0.4636</td>\n",
       "      <td>0.4375</td>\n",
       "    </tr>\n",
       "    <tr>\n",
       "      <th>SVM</th>\n",
       "      <td>0.5595</td>\n",
       "      <td>0.7645</td>\n",
       "      <td>0.3529</td>\n",
       "    </tr>\n",
       "  </tbody>\n",
       "</table>\n",
       "</div>"
      ],
      "text/plain": [
       "                     Mean CV Accuracy  Mean CV Sensitivity  \\\n",
       "Logistic Regression            0.4982               0.0000   \n",
       "Random Forest                  0.5842               0.7263   \n",
       "KNN                            0.4506               0.4636   \n",
       "SVM                            0.5595               0.7645   \n",
       "\n",
       "                     Mean CV Specificity  \n",
       "Logistic Regression               1.0000  \n",
       "Random Forest                     0.4301  \n",
       "KNN                               0.4375  \n",
       "SVM                               0.3529  "
      ]
     },
     "execution_count": 28,
     "metadata": {},
     "output_type": "execute_result"
    }
   ],
   "source": [
    "notes_comp.round(4)"
   ]
  },
  {
   "cell_type": "code",
   "execution_count": 29,
   "metadata": {},
   "outputs": [
    {
     "data": {
      "text/html": [
       "<div>\n",
       "<style scoped>\n",
       "    .dataframe tbody tr th:only-of-type {\n",
       "        vertical-align: middle;\n",
       "    }\n",
       "\n",
       "    .dataframe tbody tr th {\n",
       "        vertical-align: top;\n",
       "    }\n",
       "\n",
       "    .dataframe thead th {\n",
       "        text-align: right;\n",
       "    }\n",
       "</style>\n",
       "<table border=\"1\" class=\"dataframe\">\n",
       "  <thead>\n",
       "    <tr style=\"text-align: right;\">\n",
       "      <th></th>\n",
       "      <th>Mean CV Accuracy</th>\n",
       "      <th>Mean CV Sensitivity</th>\n",
       "      <th>Mean CV Specificity</th>\n",
       "    </tr>\n",
       "  </thead>\n",
       "  <tbody>\n",
       "    <tr>\n",
       "      <th>Logistic Regression</th>\n",
       "      <td>0.4982</td>\n",
       "      <td>0.0000</td>\n",
       "      <td>1.0000</td>\n",
       "    </tr>\n",
       "    <tr>\n",
       "      <th>Random Forest</th>\n",
       "      <td>0.8288</td>\n",
       "      <td>0.8412</td>\n",
       "      <td>0.8382</td>\n",
       "    </tr>\n",
       "    <tr>\n",
       "      <th>KNN</th>\n",
       "      <td>0.4515</td>\n",
       "      <td>0.4636</td>\n",
       "      <td>0.4393</td>\n",
       "    </tr>\n",
       "    <tr>\n",
       "      <th>SVM</th>\n",
       "      <td>0.5595</td>\n",
       "      <td>0.7645</td>\n",
       "      <td>0.3529</td>\n",
       "    </tr>\n",
       "  </tbody>\n",
       "</table>\n",
       "</div>"
      ],
      "text/plain": [
       "                     Mean CV Accuracy  Mean CV Sensitivity  \\\n",
       "Logistic Regression            0.4982               0.0000   \n",
       "Random Forest                  0.8288               0.8412   \n",
       "KNN                            0.4515               0.4636   \n",
       "SVM                            0.5595               0.7645   \n",
       "\n",
       "                     Mean CV Specificity  \n",
       "Logistic Regression               1.0000  \n",
       "Random Forest                     0.8382  \n",
       "KNN                               0.4393  \n",
       "SVM                               0.3529  "
      ]
     },
     "execution_count": 29,
     "metadata": {},
     "output_type": "execute_result"
    }
   ],
   "source": [
    "diagmed_comp.round(4)"
   ]
  },
  {
   "cell_type": "code",
   "execution_count": 30,
   "metadata": {},
   "outputs": [
    {
     "data": {
      "text/html": [
       "<div>\n",
       "<style scoped>\n",
       "    .dataframe tbody tr th:only-of-type {\n",
       "        vertical-align: middle;\n",
       "    }\n",
       "\n",
       "    .dataframe tbody tr th {\n",
       "        vertical-align: top;\n",
       "    }\n",
       "\n",
       "    .dataframe thead th {\n",
       "        text-align: right;\n",
       "    }\n",
       "</style>\n",
       "<table border=\"1\" class=\"dataframe\">\n",
       "  <thead>\n",
       "    <tr style=\"text-align: right;\">\n",
       "      <th></th>\n",
       "      <th>Mean CV Accuracy</th>\n",
       "      <th>Mean CV Sensitivity</th>\n",
       "      <th>Mean CV Specificity</th>\n",
       "    </tr>\n",
       "  </thead>\n",
       "  <tbody>\n",
       "    <tr>\n",
       "      <th>Logistic Regression</th>\n",
       "      <td>0.4982</td>\n",
       "      <td>0.0000</td>\n",
       "      <td>1.0000</td>\n",
       "    </tr>\n",
       "    <tr>\n",
       "      <th>Random Forest</th>\n",
       "      <td>0.8334</td>\n",
       "      <td>0.8285</td>\n",
       "      <td>0.8309</td>\n",
       "    </tr>\n",
       "    <tr>\n",
       "      <th>KNN</th>\n",
       "      <td>0.4515</td>\n",
       "      <td>0.4636</td>\n",
       "      <td>0.4393</td>\n",
       "    </tr>\n",
       "    <tr>\n",
       "      <th>SVM</th>\n",
       "      <td>0.5595</td>\n",
       "      <td>0.7645</td>\n",
       "      <td>0.3529</td>\n",
       "    </tr>\n",
       "  </tbody>\n",
       "</table>\n",
       "</div>"
      ],
      "text/plain": [
       "                     Mean CV Accuracy  Mean CV Sensitivity  \\\n",
       "Logistic Regression            0.4982               0.0000   \n",
       "Random Forest                  0.8334               0.8285   \n",
       "KNN                            0.4515               0.4636   \n",
       "SVM                            0.5595               0.7645   \n",
       "\n",
       "                     Mean CV Specificity  \n",
       "Logistic Regression               1.0000  \n",
       "Random Forest                     0.8309  \n",
       "KNN                               0.4393  \n",
       "SVM                               0.3529  "
      ]
     },
     "execution_count": 30,
     "metadata": {},
     "output_type": "execute_result"
    }
   ],
   "source": [
    "all_comp.round(4)"
   ]
  },
  {
   "cell_type": "code",
   "execution_count": 44,
   "metadata": {},
   "outputs": [],
   "source": [
    "sens_df = pd.DataFrame({'Clinical Notes': notes_comp['Mean CV Sensitivity'],\n",
    "                'Med + Dx': diagmed_comp['Mean CV Sensitivity'],\n",
    "                'Clinical Notes + Med + Dx': all_comp['Mean CV Sensitivity']})\n",
    "\n",
    "spec_df = pd.DataFrame({'Clinical Notes': notes_comp['Mean CV Specificity'],\n",
    "                'Med + Dx': diagmed_comp['Mean CV Specificity'],\n",
    "                'Clinical Notes + Med + Dx': all_comp['Mean CV Specificity']})"
   ]
  },
  {
   "cell_type": "code",
   "execution_count": 51,
   "metadata": {},
   "outputs": [
    {
     "data": {
      "image/png": "[encoded data removed]",
      "text/plain": [
       "<Figure size 1080x576 with 1 Axes>"
      ]
     },
     "metadata": {
      "needs_background": "light"
     },
     "output_type": "display_data"
    }
   ],
   "source": [
    "sens_df.drop('Logistic Regression').plot.bar(figsize=(15,8))\n",
    "plt.xticks(rotation = 45)\n",
    "plt.savefig('sens_comp', bbox_inches = 'tight')\n",
    "plt.show()"
   ]
  },
  {
   "cell_type": "code",
   "execution_count": 50,
   "metadata": {},
   "outputs": [
    {
     "data": {
      "image/png": "[encoded data removed]",
      "text/plain": [
       "<Figure size 1080x576 with 1 Axes>"
      ]
     },
     "metadata": {
      "needs_background": "light"
     },
     "output_type": "display_data"
    }
   ],
   "source": [
    "spec_df.plot.bar(figsize=(15,8))\n",
    "plt.xticks(rotation = 45)\n",
    "plt.savefig('spec_comp', bbox_inches = 'tight')\n",
    "plt.show()"
   ]
  }
 ],
 "metadata": {
  "interpreter": {
   "hash": "40d3a090f54c6569ab1632332b64b2c03c39dcf918b08424e98f38b5ae0af88f"
  },
  "kernelspec": {
   "display_name": "Python 3.8.12 ('base')",
   "language": "python",
   "name": "python3"
  },
  "language_info": {
   "codemirror_mode": {
    "name": "ipython",
    "version": 3
   },
   "file_extension": ".py",
   "mimetype": "text/x-python",
   "name": "python",
   "nbconvert_exporter": "python",
   "pygments_lexer": "ipython3",
   "version": "3.8.12"
  },
  "orig_nbformat": 4
 },
 "nbformat": 4,
 "nbformat_minor": 2
}
