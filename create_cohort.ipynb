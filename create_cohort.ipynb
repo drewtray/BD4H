{
 "cells": [
  {
   "cell_type": "code",
   "execution_count": 1,
   "metadata": {},
   "outputs": [],
   "source": [
    "import numpy as np\n",
    "import pandas as pd\n",
    "from functools import reduce\n",
    "# from imblearn.under_sampling import RandomUnderSampler\n",
    "import random"
   ]
  },
  {
   "cell_type": "code",
   "execution_count": 2,
   "metadata": {},
   "outputs": [],
   "source": [
    "adm = pd.read_csv('s3://athena-output-mimic/admissions/2022/04/01/0d87fbd0-5127-43aa-a6a9-74535f99b093.csv')\n",
    "pats = pd.read_csv('s3://athena-output-mimic/patient_age/2022/04/01/af54b7c1-5c76-412e-adcc-54bf649d92fe.csv')\n",
    "notes = pd.read_csv('s3://athena-output-mimic/noteevents/2022/04/01/a4ec2a40-3dd5-42fa-b6da-b22f3dc96880.csv')\n",
    "scripts = pd.read_csv('s3://athena-output-mimic/prescriptions/2022/04/01/a1ef6eec-e3b0-47d0-be6d-42616c00547f.csv')"
   ]
  },
  {
   "cell_type": "code",
   "execution_count": 3,
   "metadata": {},
   "outputs": [
    {
     "data": {
      "text/html": [
       "<div>\n",
       "<style scoped>\n",
       "    .dataframe tbody tr th:only-of-type {\n",
       "        vertical-align: middle;\n",
       "    }\n",
       "\n",
       "    .dataframe tbody tr th {\n",
       "        vertical-align: top;\n",
       "    }\n",
       "\n",
       "    .dataframe thead th {\n",
       "        text-align: right;\n",
       "    }\n",
       "</style>\n",
       "<table border=\"1\" class=\"dataframe\">\n",
       "  <thead>\n",
       "    <tr style=\"text-align: right;\">\n",
       "      <th></th>\n",
       "      <th>subject_id</th>\n",
       "      <th>dob</th>\n",
       "      <th>dod</th>\n",
       "    </tr>\n",
       "  </thead>\n",
       "  <tbody>\n",
       "    <tr>\n",
       "      <th>0</th>\n",
       "      <td>249</td>\n",
       "      <td>2075-03-13 00:00:00.000</td>\n",
       "      <td>NaN</td>\n",
       "    </tr>\n",
       "    <tr>\n",
       "      <th>1</th>\n",
       "      <td>250</td>\n",
       "      <td>2164-12-27 00:00:00.000</td>\n",
       "      <td>2188-11-22 00:00:00.000</td>\n",
       "    </tr>\n",
       "    <tr>\n",
       "      <th>2</th>\n",
       "      <td>251</td>\n",
       "      <td>2090-03-15 00:00:00.000</td>\n",
       "      <td>NaN</td>\n",
       "    </tr>\n",
       "    <tr>\n",
       "      <th>3</th>\n",
       "      <td>252</td>\n",
       "      <td>2078-03-06 00:00:00.000</td>\n",
       "      <td>NaN</td>\n",
       "    </tr>\n",
       "    <tr>\n",
       "      <th>4</th>\n",
       "      <td>253</td>\n",
       "      <td>2089-11-26 00:00:00.000</td>\n",
       "      <td>NaN</td>\n",
       "    </tr>\n",
       "  </tbody>\n",
       "</table>\n",
       "</div>"
      ],
      "text/plain": [
       "   subject_id                      dob                      dod\n",
       "0         249  2075-03-13 00:00:00.000                      NaN\n",
       "1         250  2164-12-27 00:00:00.000  2188-11-22 00:00:00.000\n",
       "2         251  2090-03-15 00:00:00.000                      NaN\n",
       "3         252  2078-03-06 00:00:00.000                      NaN\n",
       "4         253  2089-11-26 00:00:00.000                      NaN"
      ]
     },
     "execution_count": 3,
     "metadata": {},
     "output_type": "execute_result"
    }
   ],
   "source": [
    "pats.head()"
   ]
  },
  {
   "cell_type": "code",
   "execution_count": 4,
   "metadata": {},
   "outputs": [
    {
     "data": {
      "text/plain": [
       "subject_id    46520\n",
       "dob           32540\n",
       "dod           12911\n",
       "dtype: int64"
      ]
     },
     "execution_count": 4,
     "metadata": {},
     "output_type": "execute_result"
    }
   ],
   "source": [
    "pats.nunique()"
   ]
  },
  {
   "cell_type": "code",
   "execution_count": 5,
   "metadata": {},
   "outputs": [
    {
     "data": {
      "text/html": [
       "<div>\n",
       "<style scoped>\n",
       "    .dataframe tbody tr th:only-of-type {\n",
       "        vertical-align: middle;\n",
       "    }\n",
       "\n",
       "    .dataframe tbody tr th {\n",
       "        vertical-align: top;\n",
       "    }\n",
       "\n",
       "    .dataframe thead th {\n",
       "        text-align: right;\n",
       "    }\n",
       "</style>\n",
       "<table border=\"1\" class=\"dataframe\">\n",
       "  <thead>\n",
       "    <tr style=\"text-align: right;\">\n",
       "      <th></th>\n",
       "      <th>subject_id</th>\n",
       "      <th>hadm_id</th>\n",
       "      <th>admittime</th>\n",
       "    </tr>\n",
       "  </thead>\n",
       "  <tbody>\n",
       "    <tr>\n",
       "      <th>0</th>\n",
       "      <td>22</td>\n",
       "      <td>165315</td>\n",
       "      <td>2196-04-09 12:26:00.000</td>\n",
       "    </tr>\n",
       "    <tr>\n",
       "      <th>1</th>\n",
       "      <td>23</td>\n",
       "      <td>152223</td>\n",
       "      <td>2153-09-03 07:15:00.000</td>\n",
       "    </tr>\n",
       "    <tr>\n",
       "      <th>2</th>\n",
       "      <td>23</td>\n",
       "      <td>124321</td>\n",
       "      <td>2157-10-18 19:34:00.000</td>\n",
       "    </tr>\n",
       "    <tr>\n",
       "      <th>3</th>\n",
       "      <td>24</td>\n",
       "      <td>161859</td>\n",
       "      <td>2139-06-06 16:14:00.000</td>\n",
       "    </tr>\n",
       "    <tr>\n",
       "      <th>4</th>\n",
       "      <td>25</td>\n",
       "      <td>129635</td>\n",
       "      <td>2160-11-02 02:06:00.000</td>\n",
       "    </tr>\n",
       "  </tbody>\n",
       "</table>\n",
       "</div>"
      ],
      "text/plain": [
       "   subject_id  hadm_id                admittime\n",
       "0          22   165315  2196-04-09 12:26:00.000\n",
       "1          23   152223  2153-09-03 07:15:00.000\n",
       "2          23   124321  2157-10-18 19:34:00.000\n",
       "3          24   161859  2139-06-06 16:14:00.000\n",
       "4          25   129635  2160-11-02 02:06:00.000"
      ]
     },
     "execution_count": 5,
     "metadata": {},
     "output_type": "execute_result"
    }
   ],
   "source": [
    "adm.head()"
   ]
  },
  {
   "cell_type": "code",
   "execution_count": 6,
   "metadata": {},
   "outputs": [],
   "source": [
    "age = pd.merge(pats.drop('dod', axis=1), adm, on='subject_id')"
   ]
  },
  {
   "cell_type": "code",
   "execution_count": 7,
   "metadata": {},
   "outputs": [
    {
     "data": {
      "text/html": [
       "<div>\n",
       "<style scoped>\n",
       "    .dataframe tbody tr th:only-of-type {\n",
       "        vertical-align: middle;\n",
       "    }\n",
       "\n",
       "    .dataframe tbody tr th {\n",
       "        vertical-align: top;\n",
       "    }\n",
       "\n",
       "    .dataframe thead th {\n",
       "        text-align: right;\n",
       "    }\n",
       "</style>\n",
       "<table border=\"1\" class=\"dataframe\">\n",
       "  <thead>\n",
       "    <tr style=\"text-align: right;\">\n",
       "      <th></th>\n",
       "      <th>subject_id</th>\n",
       "      <th>dob</th>\n",
       "      <th>hadm_id</th>\n",
       "      <th>admittime</th>\n",
       "    </tr>\n",
       "  </thead>\n",
       "  <tbody>\n",
       "    <tr>\n",
       "      <th>0</th>\n",
       "      <td>249</td>\n",
       "      <td>2075-03-13 00:00:00.000</td>\n",
       "      <td>116935</td>\n",
       "      <td>2149-12-17 20:41:00.000</td>\n",
       "    </tr>\n",
       "    <tr>\n",
       "      <th>1</th>\n",
       "      <td>249</td>\n",
       "      <td>2075-03-13 00:00:00.000</td>\n",
       "      <td>149546</td>\n",
       "      <td>2155-02-03 20:16:00.000</td>\n",
       "    </tr>\n",
       "    <tr>\n",
       "      <th>2</th>\n",
       "      <td>249</td>\n",
       "      <td>2075-03-13 00:00:00.000</td>\n",
       "      <td>158975</td>\n",
       "      <td>2156-04-27 15:33:00.000</td>\n",
       "    </tr>\n",
       "    <tr>\n",
       "      <th>3</th>\n",
       "      <td>250</td>\n",
       "      <td>2164-12-27 00:00:00.000</td>\n",
       "      <td>124271</td>\n",
       "      <td>2188-11-12 09:22:00.000</td>\n",
       "    </tr>\n",
       "    <tr>\n",
       "      <th>4</th>\n",
       "      <td>251</td>\n",
       "      <td>2090-03-15 00:00:00.000</td>\n",
       "      <td>117937</td>\n",
       "      <td>2110-07-27 06:46:00.000</td>\n",
       "    </tr>\n",
       "  </tbody>\n",
       "</table>\n",
       "</div>"
      ],
      "text/plain": [
       "   subject_id                      dob  hadm_id                admittime\n",
       "0         249  2075-03-13 00:00:00.000   116935  2149-12-17 20:41:00.000\n",
       "1         249  2075-03-13 00:00:00.000   149546  2155-02-03 20:16:00.000\n",
       "2         249  2075-03-13 00:00:00.000   158975  2156-04-27 15:33:00.000\n",
       "3         250  2164-12-27 00:00:00.000   124271  2188-11-12 09:22:00.000\n",
       "4         251  2090-03-15 00:00:00.000   117937  2110-07-27 06:46:00.000"
      ]
     },
     "execution_count": 7,
     "metadata": {},
     "output_type": "execute_result"
    }
   ],
   "source": [
    "age.head()"
   ]
  },
  {
   "cell_type": "code",
   "execution_count": 8,
   "metadata": {},
   "outputs": [],
   "source": [
    "date_convert = ['admittime', 'dob']\n",
    "\n",
    "for date in date_convert:\n",
    "    age[date] = pd.to_datetime(age[date])"
   ]
  },
  {
   "cell_type": "code",
   "execution_count": 9,
   "metadata": {},
   "outputs": [],
   "source": [
    "def get_age(x):\n",
    "    age = (x['admittime'].to_pydatetime() - x['dob'].to_pydatetime()).days / 365 \n",
    "    return age"
   ]
  },
  {
   "cell_type": "code",
   "execution_count": 10,
   "metadata": {},
   "outputs": [
    {
     "data": {
      "text/plain": [
       "34458"
      ]
     },
     "execution_count": 10,
     "metadata": {},
     "output_type": "execute_result"
    }
   ],
   "source": [
    "# Number that meet age filter\n",
    "\n",
    "age['age'] = age.apply(get_age, axis=1)\n",
    "age = age[age['age'].between(18, 85)].drop_duplicates().sort_values('subject_id')\n",
    "age['subject_id'].nunique()"
   ]
  },
  {
   "cell_type": "code",
   "execution_count": 11,
   "metadata": {},
   "outputs": [
    {
     "data": {
      "text/html": [
       "<div>\n",
       "<style scoped>\n",
       "    .dataframe tbody tr th:only-of-type {\n",
       "        vertical-align: middle;\n",
       "    }\n",
       "\n",
       "    .dataframe tbody tr th {\n",
       "        vertical-align: top;\n",
       "    }\n",
       "\n",
       "    .dataframe thead th {\n",
       "        text-align: right;\n",
       "    }\n",
       "</style>\n",
       "<table border=\"1\" class=\"dataframe\">\n",
       "  <thead>\n",
       "    <tr style=\"text-align: right;\">\n",
       "      <th></th>\n",
       "      <th>subject_id</th>\n",
       "      <th>hadm_id</th>\n",
       "      <th>date</th>\n",
       "      <th>text</th>\n",
       "    </tr>\n",
       "  </thead>\n",
       "  <tbody>\n",
       "    <tr>\n",
       "      <th>0</th>\n",
       "      <td>20181</td>\n",
       "      <td>198174.0</td>\n",
       "      <td>2173-09-01 00:00:00.000</td>\n",
       "      <td>Resp Care\\nremains ett/vent support. able to w...</td>\n",
       "    </tr>\n",
       "    <tr>\n",
       "      <th>1</th>\n",
       "      <td>20133</td>\n",
       "      <td>109649.0</td>\n",
       "      <td>2159-05-21 00:00:00.000</td>\n",
       "      <td>Condition Update A:\\nPlease refer to careview ...</td>\n",
       "    </tr>\n",
       "    <tr>\n",
       "      <th>2</th>\n",
       "      <td>20116</td>\n",
       "      <td>101379.0</td>\n",
       "      <td>2127-03-29 00:00:00.000</td>\n",
       "      <td>CCU NPN: please see flowsheet for objective da...</td>\n",
       "    </tr>\n",
       "    <tr>\n",
       "      <th>3</th>\n",
       "      <td>20119</td>\n",
       "      <td>152965.0</td>\n",
       "      <td>2145-09-10 00:00:00.000</td>\n",
       "      <td>Neuro: AAOx3, MAEx4, OOB to chair and was unst...</td>\n",
       "    </tr>\n",
       "    <tr>\n",
       "      <th>4</th>\n",
       "      <td>20236</td>\n",
       "      <td>154430.0</td>\n",
       "      <td>2130-09-04 00:00:00.000</td>\n",
       "      <td>Respiratory Care\\nPt was extubated today at 10...</td>\n",
       "    </tr>\n",
       "  </tbody>\n",
       "</table>\n",
       "</div>"
      ],
      "text/plain": [
       "   subject_id   hadm_id                     date  \\\n",
       "0       20181  198174.0  2173-09-01 00:00:00.000   \n",
       "1       20133  109649.0  2159-05-21 00:00:00.000   \n",
       "2       20116  101379.0  2127-03-29 00:00:00.000   \n",
       "3       20119  152965.0  2145-09-10 00:00:00.000   \n",
       "4       20236  154430.0  2130-09-04 00:00:00.000   \n",
       "\n",
       "                                                text  \n",
       "0  Resp Care\\nremains ett/vent support. able to w...  \n",
       "1  Condition Update A:\\nPlease refer to careview ...  \n",
       "2  CCU NPN: please see flowsheet for objective da...  \n",
       "3  Neuro: AAOx3, MAEx4, OOB to chair and was unst...  \n",
       "4  Respiratory Care\\nPt was extubated today at 10...  "
      ]
     },
     "execution_count": 11,
     "metadata": {},
     "output_type": "execute_result"
    }
   ],
   "source": [
    "filt_notes = notes[notes['subject_id'].isin(age['subject_id'])]\n",
    "filt_notes = filt_notes.rename(columns={'chartdate': 'date'})\n",
    "filt_notes = filt_notes[~filt_notes['hadm_id'].isna()]\n",
    "filt_notes.head()"
   ]
  },
  {
   "cell_type": "code",
   "execution_count": 12,
   "metadata": {},
   "outputs": [
    {
     "data": {
      "text/html": [
       "<div>\n",
       "<style scoped>\n",
       "    .dataframe tbody tr th:only-of-type {\n",
       "        vertical-align: middle;\n",
       "    }\n",
       "\n",
       "    .dataframe tbody tr th {\n",
       "        vertical-align: top;\n",
       "    }\n",
       "\n",
       "    .dataframe thead th {\n",
       "        text-align: right;\n",
       "    }\n",
       "</style>\n",
       "<table border=\"1\" class=\"dataframe\">\n",
       "  <thead>\n",
       "    <tr style=\"text-align: right;\">\n",
       "      <th></th>\n",
       "      <th>subject_id</th>\n",
       "      <th>hadm_id</th>\n",
       "      <th>date</th>\n",
       "      <th>drug</th>\n",
       "    </tr>\n",
       "  </thead>\n",
       "  <tbody>\n",
       "    <tr>\n",
       "      <th>0</th>\n",
       "      <td>4</td>\n",
       "      <td>185777</td>\n",
       "      <td>2191-03-16 00:00:00.000</td>\n",
       "      <td>Benzonatate</td>\n",
       "    </tr>\n",
       "    <tr>\n",
       "      <th>1</th>\n",
       "      <td>4</td>\n",
       "      <td>185777</td>\n",
       "      <td>2191-03-16 00:00:00.000</td>\n",
       "      <td>Dextromethorphan-Guaifenesin (Sugar Free)</td>\n",
       "    </tr>\n",
       "    <tr>\n",
       "      <th>2</th>\n",
       "      <td>68</td>\n",
       "      <td>170467</td>\n",
       "      <td>2173-12-25 00:00:00.000</td>\n",
       "      <td>Guaifenesin-Dextromethorphan</td>\n",
       "    </tr>\n",
       "    <tr>\n",
       "      <th>3</th>\n",
       "      <td>85</td>\n",
       "      <td>112077</td>\n",
       "      <td>2167-07-26 00:00:00.000</td>\n",
       "      <td>Benzonatate</td>\n",
       "    </tr>\n",
       "    <tr>\n",
       "      <th>4</th>\n",
       "      <td>85</td>\n",
       "      <td>112077</td>\n",
       "      <td>2167-07-26 00:00:00.000</td>\n",
       "      <td>Guaifenesin-Dextromethorphan</td>\n",
       "    </tr>\n",
       "  </tbody>\n",
       "</table>\n",
       "</div>"
      ],
      "text/plain": [
       "   subject_id  hadm_id                     date  \\\n",
       "0           4   185777  2191-03-16 00:00:00.000   \n",
       "1           4   185777  2191-03-16 00:00:00.000   \n",
       "2          68   170467  2173-12-25 00:00:00.000   \n",
       "3          85   112077  2167-07-26 00:00:00.000   \n",
       "4          85   112077  2167-07-26 00:00:00.000   \n",
       "\n",
       "                                        drug  \n",
       "0                                Benzonatate  \n",
       "1  Dextromethorphan-Guaifenesin (Sugar Free)  \n",
       "2               Guaifenesin-Dextromethorphan  \n",
       "3                                Benzonatate  \n",
       "4               Guaifenesin-Dextromethorphan  "
      ]
     },
     "execution_count": 12,
     "metadata": {},
     "output_type": "execute_result"
    }
   ],
   "source": [
    "filt_scripts = scripts[scripts['subject_id'].isin(age['subject_id'])]\n",
    "filt_scripts = filt_scripts.rename(columns={'startdate': 'date'}).drop('enddate', axis=1)\n",
    "filt_scripts = filt_scripts[~filt_scripts['hadm_id'].isna()]\n",
    "filt_scripts.head()"
   ]
  },
  {
   "cell_type": "code",
   "execution_count": 13,
   "metadata": {},
   "outputs": [
    {
     "data": {
      "text/plain": [
       "(162777, 5)"
      ]
     },
     "execution_count": 13,
     "metadata": {},
     "output_type": "execute_result"
    }
   ],
   "source": [
    "conc = pd.concat([filt_notes, filt_scripts]).sort_values('subject_id')\n",
    "conc.shape"
   ]
  },
  {
   "cell_type": "code",
   "execution_count": 14,
   "metadata": {},
   "outputs": [],
   "source": [
    "# All subject id's with at least a cough prescription, or a mention of cough in clinical notes\n",
    "all_df = conc.copy()\n",
    "all_cough = all_df['subject_id'].unique().tolist()"
   ]
  },
  {
   "cell_type": "code",
   "execution_count": 15,
   "metadata": {},
   "outputs": [
    {
     "data": {
      "text/plain": [
       "23901"
      ]
     },
     "execution_count": 15,
     "metadata": {},
     "output_type": "execute_result"
    }
   ],
   "source": [
    "len(all_cough)"
   ]
  },
  {
   "cell_type": "code",
   "execution_count": 16,
   "metadata": {},
   "outputs": [
    {
     "data": {
      "text/plain": [
       "1201"
      ]
     },
     "execution_count": 16,
     "metadata": {},
     "output_type": "execute_result"
    }
   ],
   "source": [
    "# Get subjects with at least three hospital admissions\n",
    "\n",
    "sub_ids = conc.groupby('subject_id')['hadm_id'].nunique()[conc.groupby('subject_id')['hadm_id'].nunique() >= 3].index.to_list()\n",
    "len(sub_ids)"
   ]
  },
  {
   "cell_type": "code",
   "execution_count": 17,
   "metadata": {},
   "outputs": [
    {
     "data": {
      "text/plain": [
       "(30796, 5)"
      ]
     },
     "execution_count": 17,
     "metadata": {},
     "output_type": "execute_result"
    }
   ],
   "source": [
    "conc = conc[conc['subject_id'].isin(sub_ids)]\n",
    "conc.shape"
   ]
  },
  {
   "cell_type": "code",
   "execution_count": 18,
   "metadata": {},
   "outputs": [
    {
     "data": {
      "text/html": [
       "<div>\n",
       "<style scoped>\n",
       "    .dataframe tbody tr th:only-of-type {\n",
       "        vertical-align: middle;\n",
       "    }\n",
       "\n",
       "    .dataframe tbody tr th {\n",
       "        vertical-align: top;\n",
       "    }\n",
       "\n",
       "    .dataframe thead th {\n",
       "        text-align: right;\n",
       "    }\n",
       "</style>\n",
       "<table border=\"1\" class=\"dataframe\">\n",
       "  <thead>\n",
       "    <tr style=\"text-align: right;\">\n",
       "      <th></th>\n",
       "      <th>subject_id</th>\n",
       "      <th>hadm_id</th>\n",
       "      <th>date</th>\n",
       "      <th>text</th>\n",
       "      <th>drug</th>\n",
       "    </tr>\n",
       "  </thead>\n",
       "  <tbody>\n",
       "    <tr>\n",
       "      <th>183773</th>\n",
       "      <td>36</td>\n",
       "      <td>122659.0</td>\n",
       "      <td>2131-05-17</td>\n",
       "      <td>Pt returned to [**Location 204**] s/p chest ex...</td>\n",
       "      <td>NaN</td>\n",
       "    </tr>\n",
       "    <tr>\n",
       "      <th>23251</th>\n",
       "      <td>36</td>\n",
       "      <td>122659.0</td>\n",
       "      <td>2131-05-21</td>\n",
       "      <td>ROS:\\n\\nNeuro: Sleepy. Arouses w/ease. Denies ...</td>\n",
       "      <td>NaN</td>\n",
       "    </tr>\n",
       "    <tr>\n",
       "      <th>23412</th>\n",
       "      <td>36</td>\n",
       "      <td>122659.0</td>\n",
       "      <td>2131-05-21</td>\n",
       "      <td>Nursing Progress Note:\\nNeuro:  Pt lethargic. ...</td>\n",
       "      <td>NaN</td>\n",
       "    </tr>\n",
       "    <tr>\n",
       "      <th>23429</th>\n",
       "      <td>36</td>\n",
       "      <td>122659.0</td>\n",
       "      <td>2131-05-22</td>\n",
       "      <td>Respiratory Care\\nPt remains comfortable with ...</td>\n",
       "      <td>NaN</td>\n",
       "    </tr>\n",
       "    <tr>\n",
       "      <th>23413</th>\n",
       "      <td>36</td>\n",
       "      <td>122659.0</td>\n",
       "      <td>2131-05-22</td>\n",
       "      <td>npn 23:00-07:00\\n\\ns/p CABGx5 [**2131-5-3**], ...</td>\n",
       "      <td>NaN</td>\n",
       "    </tr>\n",
       "    <tr>\n",
       "      <th>23269</th>\n",
       "      <td>36</td>\n",
       "      <td>122659.0</td>\n",
       "      <td>2131-05-23</td>\n",
       "      <td>Neuro: alert and oriented X3, has some visual ...</td>\n",
       "      <td>NaN</td>\n",
       "    </tr>\n",
       "    <tr>\n",
       "      <th>44402</th>\n",
       "      <td>36</td>\n",
       "      <td>122659.0</td>\n",
       "      <td>2131-05-25</td>\n",
       "      <td>Admission Date:  [**2131-5-12**]              ...</td>\n",
       "      <td>NaN</td>\n",
       "    </tr>\n",
       "    <tr>\n",
       "      <th>44403</th>\n",
       "      <td>36</td>\n",
       "      <td>165660.0</td>\n",
       "      <td>2134-05-20</td>\n",
       "      <td>Admission Date:  [**2134-5-10**]              ...</td>\n",
       "      <td>NaN</td>\n",
       "    </tr>\n",
       "    <tr>\n",
       "      <th>23384</th>\n",
       "      <td>36</td>\n",
       "      <td>182104.0</td>\n",
       "      <td>2131-05-04</td>\n",
       "      <td>a paced-&gt;nsr 60's-80's. pacer off as occasiona...</td>\n",
       "      <td>NaN</td>\n",
       "    </tr>\n",
       "    <tr>\n",
       "      <th>131170</th>\n",
       "      <td>109</td>\n",
       "      <td>102024.0</td>\n",
       "      <td>2142-06-03</td>\n",
       "      <td>: Ms. [**Known lastname 406**] is a 24 y.o. fe...</td>\n",
       "      <td>NaN</td>\n",
       "    </tr>\n",
       "  </tbody>\n",
       "</table>\n",
       "</div>"
      ],
      "text/plain": [
       "        subject_id   hadm_id       date  \\\n",
       "183773          36  122659.0 2131-05-17   \n",
       "23251           36  122659.0 2131-05-21   \n",
       "23412           36  122659.0 2131-05-21   \n",
       "23429           36  122659.0 2131-05-22   \n",
       "23413           36  122659.0 2131-05-22   \n",
       "23269           36  122659.0 2131-05-23   \n",
       "44402           36  122659.0 2131-05-25   \n",
       "44403           36  165660.0 2134-05-20   \n",
       "23384           36  182104.0 2131-05-04   \n",
       "131170         109  102024.0 2142-06-03   \n",
       "\n",
       "                                                     text drug  \n",
       "183773  Pt returned to [**Location 204**] s/p chest ex...  NaN  \n",
       "23251   ROS:\\n\\nNeuro: Sleepy. Arouses w/ease. Denies ...  NaN  \n",
       "23412   Nursing Progress Note:\\nNeuro:  Pt lethargic. ...  NaN  \n",
       "23429   Respiratory Care\\nPt remains comfortable with ...  NaN  \n",
       "23413   npn 23:00-07:00\\n\\ns/p CABGx5 [**2131-5-3**], ...  NaN  \n",
       "23269   Neuro: alert and oriented X3, has some visual ...  NaN  \n",
       "44402   Admission Date:  [**2131-5-12**]              ...  NaN  \n",
       "44403   Admission Date:  [**2134-5-10**]              ...  NaN  \n",
       "23384   a paced->nsr 60's-80's. pacer off as occasiona...  NaN  \n",
       "131170  : Ms. [**Known lastname 406**] is a 24 y.o. fe...  NaN  "
      ]
     },
     "execution_count": 18,
     "metadata": {},
     "output_type": "execute_result"
    }
   ],
   "source": [
    "conc['date'] = pd.to_datetime(conc['date'])\n",
    "conc = conc.sort_values(['subject_id', 'hadm_id', 'date'])\n",
    "# conc = conc.sort_values(['subject_id', 'date'])\n",
    "conc.head(10)"
   ]
  },
  {
   "cell_type": "code",
   "execution_count": 19,
   "metadata": {},
   "outputs": [
    {
     "data": {
      "text/html": [
       "<div>\n",
       "<style scoped>\n",
       "    .dataframe tbody tr th:only-of-type {\n",
       "        vertical-align: middle;\n",
       "    }\n",
       "\n",
       "    .dataframe tbody tr th {\n",
       "        vertical-align: top;\n",
       "    }\n",
       "\n",
       "    .dataframe thead th {\n",
       "        text-align: right;\n",
       "    }\n",
       "</style>\n",
       "<table border=\"1\" class=\"dataframe\">\n",
       "  <thead>\n",
       "    <tr style=\"text-align: right;\">\n",
       "      <th></th>\n",
       "      <th>subject_id</th>\n",
       "      <th>hadm_id</th>\n",
       "      <th>date</th>\n",
       "      <th>shift_date</th>\n",
       "    </tr>\n",
       "  </thead>\n",
       "  <tbody>\n",
       "    <tr>\n",
       "      <th>23384</th>\n",
       "      <td>36</td>\n",
       "      <td>182104.0</td>\n",
       "      <td>2131-05-04</td>\n",
       "      <td>NaT</td>\n",
       "    </tr>\n",
       "    <tr>\n",
       "      <th>183773</th>\n",
       "      <td>36</td>\n",
       "      <td>122659.0</td>\n",
       "      <td>2131-05-17</td>\n",
       "      <td>NaT</td>\n",
       "    </tr>\n",
       "    <tr>\n",
       "      <th>44403</th>\n",
       "      <td>36</td>\n",
       "      <td>165660.0</td>\n",
       "      <td>2134-05-20</td>\n",
       "      <td>2131-05-04</td>\n",
       "    </tr>\n",
       "    <tr>\n",
       "      <th>176633</th>\n",
       "      <td>109</td>\n",
       "      <td>183350.0</td>\n",
       "      <td>2137-11-05</td>\n",
       "      <td>2131-05-17</td>\n",
       "    </tr>\n",
       "    <tr>\n",
       "      <th>176690</th>\n",
       "      <td>109</td>\n",
       "      <td>128755.0</td>\n",
       "      <td>2138-04-17</td>\n",
       "      <td>2134-05-20</td>\n",
       "    </tr>\n",
       "  </tbody>\n",
       "</table>\n",
       "</div>"
      ],
      "text/plain": [
       "        subject_id   hadm_id       date shift_date\n",
       "23384           36  182104.0 2131-05-04        NaT\n",
       "183773          36  122659.0 2131-05-17        NaT\n",
       "44403           36  165660.0 2134-05-20 2131-05-04\n",
       "176633         109  183350.0 2137-11-05 2131-05-17\n",
       "176690         109  128755.0 2138-04-17 2134-05-20"
      ]
     },
     "execution_count": 19,
     "metadata": {},
     "output_type": "execute_result"
    }
   ],
   "source": [
    "date_diff = conc[['subject_id', 'hadm_id', 'date']].drop_duplicates(subset='hadm_id')\n",
    "date_diff = date_diff.sort_values(['subject_id', 'date'])\n",
    "date_diff['shift_date'] = date_diff['date'].shift(2)\n",
    "date_diff.head()"
   ]
  },
  {
   "cell_type": "code",
   "execution_count": 20,
   "metadata": {},
   "outputs": [
    {
     "data": {
      "text/plain": [
       "780"
      ]
     },
     "execution_count": 20,
     "metadata": {},
     "output_type": "execute_result"
    }
   ],
   "source": [
    "date_diff['diff'] = date_diff['date'] - date_diff['shift_date']\n",
    "\n",
    "cc = date_diff[date_diff['diff'] <= pd.Timedelta(120, 'd')]\n",
    "cc_sub = cc['subject_id'].unique().tolist()\n",
    "len(cc_sub)"
   ]
  },
  {
   "cell_type": "code",
   "execution_count": 21,
   "metadata": {},
   "outputs": [],
   "source": [
    "# cc_ext = date_diff[date_diff['diff'] <= pd.Timedelta(365*2, 'd')]\n",
    "# cc_extSub = cc_ext['subject_id'].unique().tolist()\n",
    "# len(cc_extSub )"
   ]
  },
  {
   "cell_type": "code",
   "execution_count": 22,
   "metadata": {},
   "outputs": [],
   "source": [
    "# cc_sub"
   ]
  },
  {
   "cell_type": "code",
   "execution_count": 23,
   "metadata": {},
   "outputs": [],
   "source": [
    "# all_cough"
   ]
  },
  {
   "cell_type": "code",
   "execution_count": 24,
   "metadata": {},
   "outputs": [],
   "source": [
    "non_cc = [id for id in all_cough if id not in cc_sub]"
   ]
  },
  {
   "cell_type": "code",
   "execution_count": 25,
   "metadata": {},
   "outputs": [
    {
     "data": {
      "text/plain": [
       "23121"
      ]
     },
     "execution_count": 25,
     "metadata": {},
     "output_type": "execute_result"
    }
   ],
   "source": [
    "len(non_cc)"
   ]
  },
  {
   "cell_type": "code",
   "execution_count": 26,
   "metadata": {},
   "outputs": [],
   "source": [
    "random.seed(2021)\n",
    "non_cc = random.sample(non_cc, len(cc_sub))"
   ]
  },
  {
   "cell_type": "code",
   "execution_count": 27,
   "metadata": {},
   "outputs": [
    {
     "data": {
      "text/plain": [
       "780"
      ]
     },
     "execution_count": 27,
     "metadata": {},
     "output_type": "execute_result"
    }
   ],
   "source": [
    "len(non_cc)"
   ]
  },
  {
   "cell_type": "code",
   "execution_count": 110,
   "metadata": {},
   "outputs": [],
   "source": [
    "cc_df = pd.DataFrame({'subject_id': cc_sub, 'target': 1.0})"
   ]
  },
  {
   "cell_type": "code",
   "execution_count": 111,
   "metadata": {},
   "outputs": [],
   "source": [
    "noncc_df = pd.DataFrame({'subject_id': non_cc, 'target': 0})"
   ]
  },
  {
   "cell_type": "code",
   "execution_count": 118,
   "metadata": {},
   "outputs": [],
   "source": [
    "cohort = pd.concat([cc_df, noncc_df])\n",
    "cohort.to_csv('cohort.csv')"
   ]
  },
  {
   "cell_type": "code",
   "execution_count": 119,
   "metadata": {},
   "outputs": [
    {
     "data": {
      "text/html": [
       "<div>\n",
       "<style scoped>\n",
       "    .dataframe tbody tr th:only-of-type {\n",
       "        vertical-align: middle;\n",
       "    }\n",
       "\n",
       "    .dataframe tbody tr th {\n",
       "        vertical-align: top;\n",
       "    }\n",
       "\n",
       "    .dataframe thead th {\n",
       "        text-align: right;\n",
       "    }\n",
       "</style>\n",
       "<table border=\"1\" class=\"dataframe\">\n",
       "  <thead>\n",
       "    <tr style=\"text-align: right;\">\n",
       "      <th></th>\n",
       "      <th>subject_id</th>\n",
       "      <th>target</th>\n",
       "    </tr>\n",
       "  </thead>\n",
       "  <tbody>\n",
       "    <tr>\n",
       "      <th>0</th>\n",
       "      <td>109</td>\n",
       "      <td>1.0</td>\n",
       "    </tr>\n",
       "    <tr>\n",
       "      <th>1</th>\n",
       "      <td>188</td>\n",
       "      <td>1.0</td>\n",
       "    </tr>\n",
       "    <tr>\n",
       "      <th>2</th>\n",
       "      <td>222</td>\n",
       "      <td>1.0</td>\n",
       "    </tr>\n",
       "    <tr>\n",
       "      <th>3</th>\n",
       "      <td>236</td>\n",
       "      <td>1.0</td>\n",
       "    </tr>\n",
       "    <tr>\n",
       "      <th>4</th>\n",
       "      <td>305</td>\n",
       "      <td>1.0</td>\n",
       "    </tr>\n",
       "  </tbody>\n",
       "</table>\n",
       "</div>"
      ],
      "text/plain": [
       "   subject_id  target\n",
       "0         109     1.0\n",
       "1         188     1.0\n",
       "2         222     1.0\n",
       "3         236     1.0\n",
       "4         305     1.0"
      ]
     },
     "execution_count": 119,
     "metadata": {},
     "output_type": "execute_result"
    }
   ],
   "source": [
    "cohort.head()"
   ]
  },
  {
   "cell_type": "code",
   "execution_count": 120,
   "metadata": {},
   "outputs": [
    {
     "data": {
      "text/plain": [
       "1560"
      ]
     },
     "execution_count": 120,
     "metadata": {},
     "output_type": "execute_result"
    }
   ],
   "source": [
    "cohort['subject_id'].nunique()"
   ]
  }
 ],
 "metadata": {
  "interpreter": {
   "hash": "40d3a090f54c6569ab1632332b64b2c03c39dcf918b08424e98f38b5ae0af88f"
  },
  "kernelspec": {
   "display_name": "Python 3.8.12 ('base')",
   "language": "python",
   "name": "python3"
  },
  "language_info": {
   "codemirror_mode": {
    "name": "ipython",
    "version": 3
   },
   "file_extension": ".py",
   "mimetype": "text/x-python",
   "name": "python",
   "nbconvert_exporter": "python",
   "pygments_lexer": "ipython3",
   "version": "3.8.12"
  },
  "orig_nbformat": 4
 },
 "nbformat": 4,
 "nbformat_minor": 2
}
